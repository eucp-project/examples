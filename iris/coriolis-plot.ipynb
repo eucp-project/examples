{
 "cells": [
  {
   "cell_type": "markdown",
   "metadata": {},
   "source": [
    "# Deriving the Coriolis frequency over the globe\n",
    "\n",
    "The following example computes the Coriolis frequency and stores it in a cube with associated metadata. It then plots the Coriolis frequency on an orthographic\n",
    "projection."
   ]
  },
  {
   "cell_type": "markdown",
   "metadata": {},
   "source": [
    "Start with arrays for latitudes and longitudes, with a given number of coordinates in the arrays."
   ]
  },
  {
   "cell_type": "code",
   "execution_count": 3,
   "metadata": {},
   "outputs": [],
   "source": [
    "import numpy as np\n",
    "\n",
    "coordinate_points = 200\n",
    "longitudes = np.linspace(-180.0, 180.0, coordinate_points)\n",
    "latitudes = np.linspace(-90.0, 90.0, coordinate_points)\n",
    "lon2d, lat2d = np.meshgrid(longitudes, latitudes)"
   ]
  },
  {
   "cell_type": "markdown",
   "metadata": {},
   "source": [
    "Omega is the Earth's rotation rate, expressed in radians per second"
   ]
  },
  {
   "cell_type": "code",
   "execution_count": 2,
   "metadata": {},
   "outputs": [],
   "source": [
    "omega = 7.29e-5"
   ]
  },
  {
   "cell_type": "markdown",
   "metadata": {},
   "source": [
    "The data for our cube is the Coriolis frequency, `f = 2 * omega * sin(phi)`, which is computed for each grid point over the globe from the 2-dimensional latitude array."
   ]
  },
  {
   "cell_type": "code",
   "execution_count": 2,
   "metadata": {},
   "outputs": [],
   "source": [
    "data = 2. * omega * np.sin(np.deg2rad(lat2d))"
   ]
  },
  {
   "cell_type": "markdown",
   "metadata": {},
   "source": [
    "We now need to define a coordinate system for the plot. Here we'll use GeogCS; 6371229 is the radius of the Earth in metres."
   ]
  },
  {
   "cell_type": "code",
   "execution_count": 4,
   "metadata": {},
   "outputs": [],
   "source": [
    "from iris.coord_systems import GeogCS\n",
    "\n",
    "cs = GeogCS(6371229)"
   ]
  },
  {
   "cell_type": "markdown",
   "metadata": {},
   "source": [
    "The Iris coords module turns the latitude list into a coordinate array. Coords then applies an appropriate standard name and unit to it."
   ]
  },
  {
   "cell_type": "code",
   "execution_count": 2,
   "metadata": {},
   "outputs": [],
   "source": [
    "import iris\n",
    "lat_coord = iris.coords.DimCoord(latitudes,\n",
    "                                 standard_name='latitude',\n",
    "                                 units='degrees',\n",
    "                                 coord_system=cs)\n",
    "lon_coord = iris.coords.DimCoord(longitudes,\n",
    "                                 standard_name='longitude',\n",
    "                                 units='degrees',\n",
    "                                 coord_system=cs)"
   ]
  },
  {
   "cell_type": "markdown",
   "metadata": {},
   "source": [
    "Now we add bounds to our latitude and longitude coordinates. We want simple, contiguous bounds for our regularly-spaced coordinate points so we use the guess_bounds() method of the coordinate. For more complex coordinates, we could derive and set the bounds manually."
   ]
  },
  {
   "cell_type": "code",
   "execution_count": 2,
   "metadata": {},
   "outputs": [],
   "source": [
    "lat_coord.guess_bounds()\n",
    "lon_coord.guess_bounds()"
   ]
  },
  {
   "cell_type": "markdown",
   "metadata": {},
   "source": [
    "Put our data and coordinates into a cube"
   ]
  },
  {
   "cell_type": "code",
   "execution_count": 2,
   "metadata": {},
   "outputs": [],
   "source": [
    "new_cube = iris.cube.Cube(data,\n",
    "                          standard_name='coriolis_parameter',\n",
    "                          units='s-1',\n",
    "                          dim_coords_and_dims=[(lat_coord, 0),\n",
    "                                               (lon_coord, 1)])"
   ]
  },
  {
   "cell_type": "markdown",
   "metadata": {},
   "source": [
    "Let's plot our cube, along with coastlines, a title and an appropriately-labelled colour bar"
   ]
  },
  {
   "cell_type": "code",
   "execution_count": 7,
   "metadata": {},
   "outputs": [
    {
     "data": {
      "image/png": "[encoded data removed]",
      "text/plain": [
       "<Figure size 432x288 with 2 Axes>"
      ]
     },
     "metadata": {
      "needs_background": "light"
     },
     "output_type": "display_data"
    }
   ],
   "source": [
    "%matplotlib inline\n",
    "import cartopy.crs as ccrs\n",
    "import iris.plot as iplt\n",
    "import matplotlib.pyplot as plt\n",
    "\n",
    "ax = plt.axes(projection=ccrs.Orthographic())\n",
    "ax.coastlines(resolution='10m')\n",
    "mesh = iplt.pcolormesh(new_cube, cmap='seismic')\n",
    "tick_levels = [-0.00012, -0.00006, 0.0, 0.00006, 0.00012]\n",
    "plt.colorbar(mesh, orientation='horizontal', label='s-1',\n",
    "             ticks=tick_levels, format='%.1e')\n",
    "plt.title('Coriolis frequency');  # avoid return value from `plt.title` as output"
   ]
  },
  {
   "cell_type": "code",
   "execution_count": null,
   "metadata": {},
   "outputs": [],
   "source": []
  }
 ],
 "metadata": {
  "kernelspec": {
   "display_name": "Python 3",
   "language": "python",
   "name": "python3"
  },
  "language_info": {
   "codemirror_mode": {
    "name": "ipython",
    "version": 3
   },
   "file_extension": ".py",
   "mimetype": "text/x-python",
   "name": "python",
   "nbconvert_exporter": "python",
   "pygments_lexer": "ipython3",
   "version": "3.7.3"
  }
 },
 "nbformat": 4,
 "nbformat_minor": 2
}
