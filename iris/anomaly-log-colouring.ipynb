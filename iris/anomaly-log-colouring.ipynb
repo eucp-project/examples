{
 "cells": [
  {
   "cell_type": "markdown",
   "metadata": {},
   "source": [
    "# Colouring anomaly data with logarithmic scaling\n",
    "\n",
    "In this example, we need to plot anomaly data where the values have a “logarithmic” significance – i.e. we want to give approximately equal ranges of colour between data values of, say, 1 and 10 as between 10 and 100.\n",
    "\n",
    "As the data range also contains zero, that obviously does not suit a simple logarithmic interpretation. However, values of less than a certain absolute magnitude may be considered “not significant”, so we put these into a separate “zero band” which is plotted in white.\n",
    "\n",
    "To do this, we create a custom value mapping function (normalization) using the matplotlib Norm class matplotlib.colours.SymLogNorm. We use this to make a cell-filled pseudocolour plot with a colorbar.\n",
    "\n",
    "NOTE: By “pseudocolour”, we mean that each data point is drawn as a “cell” region on the plot, coloured according to its data value. This is provided in Iris by the functions iris.plot.pcolor() and iris.plot.pcolormesh(), which call the underlying matplotlib functions of the same names (i.e. matplotlib.pyplot.pcolor and matplotlib.pyplot.pcolormesh). See also: http://en.wikipedia.org/wiki/False_color#Pseudocolor."
   ]
  },
  {
   "cell_type": "code",
   "execution_count": 1,
   "metadata": {},
   "outputs": [],
   "source": [
    "import cartopy.crs as ccrs\n",
    "import iris\n",
    "import iris.coord_categorisation\n",
    "import iris.plot as iplt\n",
    "import matplotlib.pyplot as plt\n",
    "import matplotlib.colors as mcols"
   ]
  },
  {
   "cell_type": "markdown",
   "metadata": {},
   "source": [
    "Load a sample air temperatures sequence."
   ]
  },
  {
   "cell_type": "code",
   "execution_count": 2,
   "metadata": {},
   "outputs": [],
   "source": [
    "file_path = iris.sample_data_path('E1_north_america.nc')\n",
    "temperatures = iris.load_cube(file_path)"
   ]
  },
  {
   "cell_type": "markdown",
   "metadata": {},
   "source": [
    "Create a year-number coordinate from the time information."
   ]
  },
  {
   "cell_type": "code",
   "execution_count": 3,
   "metadata": {},
   "outputs": [],
   "source": [
    "iris.coord_categorisation.add_year(temperatures, 'time')"
   ]
  },
  {
   "cell_type": "markdown",
   "metadata": {},
   "source": [
    "Create a sample anomaly field for one chosen year, by extracting that year and subtracting the time mean."
   ]
  },
  {
   "cell_type": "code",
   "execution_count": 4,
   "metadata": {},
   "outputs": [
    {
     "name": "stderr",
     "output_type": "stream",
     "text": [
      "/mnt/opt/conda/lib/python3.6/site-packages/iris/coords.py:1355: UserWarning: Collapsing a non-contiguous coordinate. Metadata may not be fully descriptive for 'forecast_period'.\n",
      "  warnings.warn(msg.format(self.name()))\n",
      "/mnt/opt/conda/lib/python3.6/site-packages/iris/coords.py:1355: UserWarning: Collapsing a non-contiguous coordinate. Metadata may not be fully descriptive for 'year'.\n",
      "  warnings.warn(msg.format(self.name()))\n"
     ]
    }
   ],
   "source": [
    "sample_year = 1982\n",
    "year_temperature = temperatures.extract(iris.Constraint(year=sample_year))\n",
    "time_mean = temperatures.collapsed('time', iris.analysis.MEAN)\n",
    "anomaly = year_temperature - time_mean"
   ]
  },
  {
   "cell_type": "markdown",
   "metadata": {},
   "source": [
    "Construct a plot title string explaining which years are involved."
   ]
  },
  {
   "cell_type": "code",
   "execution_count": 5,
   "metadata": {},
   "outputs": [],
   "source": [
    "years = temperatures.coord('year').points\n",
    "plot_title = 'Temperature anomaly'\n",
    "plot_title += '\\n{} differences from {}-{} average.'.format(sample_year, years[0], years[-1])"
   ]
  },
  {
   "cell_type": "markdown",
   "metadata": {},
   "source": [
    "Define scaling levels for the logarithmic colouring."
   ]
  },
  {
   "cell_type": "code",
   "execution_count": 6,
   "metadata": {},
   "outputs": [],
   "source": [
    "minimum_log_level = 0.1\n",
    "maximum_scale_level = 3.0"
   ]
  },
  {
   "cell_type": "markdown",
   "metadata": {},
   "source": [
    "Use a standard colour map which varies blue-white-red.\n",
    "\n",
    "For suitable options, see the 'Diverging colormaps' section in http://matplotlib.org/examples/color/colormaps_reference.html"
   ]
  },
  {
   "cell_type": "code",
   "execution_count": 7,
   "metadata": {},
   "outputs": [],
   "source": [
    "anom_cmap = 'bwr'"
   ]
  },
  {
   "cell_type": "markdown",
   "metadata": {},
   "source": [
    "Create a 'logarithmic' data normalization.\n",
    "\n",
    "Setting \"linthresh=minimum_log_level\" makes its non-logarithmic data range equal to our 'zero band'.\n",
    "Setting \"linscale=0\" maps the whole zero band to the middle colour value (i.e. 0.5), which is the neutral point of a \"diverging\" style colormap."
   ]
  },
  {
   "cell_type": "code",
   "execution_count": 8,
   "metadata": {},
   "outputs": [],
   "source": [
    "anom_norm = mcols.SymLogNorm(linthresh=minimum_log_level,\n",
    "                             linscale=0,\n",
    "                             vmin=-maximum_scale_level,\n",
    "                             vmax=maximum_scale_level)"
   ]
  },
  {
   "cell_type": "markdown",
   "metadata": {},
   "source": [
    "Important: we need to turn off Matplotlib interactivity.\n",
    "Otherwise, each separate cell will show a figure, and the underlying state is messed up (Matplotlib more or less loses the canvas it is plotting on).\n",
    "Turning of interactivity (`plt.ioff()`) and then explicitly calling `plt.show()` at the end works fine.\n",
    "\n",
    "An alternative is to run all the plotting code in a single cell (see the last cell), but then we can't intersperse Markdown cells."
   ]
  },
  {
   "cell_type": "code",
   "execution_count": 9,
   "metadata": {},
   "outputs": [],
   "source": [
    "plt.ioff()"
   ]
  },
  {
   "cell_type": "markdown",
   "metadata": {},
   "source": [
    "Create an Axes, specifying the map projection."
   ]
  },
  {
   "cell_type": "code",
   "execution_count": 10,
   "metadata": {},
   "outputs": [],
   "source": [
    "plt.axes(projection=ccrs.LambertConformal());"
   ]
  },
  {
   "cell_type": "markdown",
   "metadata": {},
   "source": [
    "Make a pseudocolour plot using this colour scheme."
   ]
  },
  {
   "cell_type": "code",
   "execution_count": 11,
   "metadata": {},
   "outputs": [
    {
     "name": "stderr",
     "output_type": "stream",
     "text": [
      "/mnt/opt/conda/lib/python3.6/site-packages/iris/coords.py:1138: UserWarning: Coordinate 'longitude' is not bounded, guessing contiguous bounds.\n",
      "  'contiguous bounds.'.format(self.name()))\n",
      "/mnt/opt/conda/lib/python3.6/site-packages/iris/coords.py:1138: UserWarning: Coordinate 'latitude' is not bounded, guessing contiguous bounds.\n",
      "  'contiguous bounds.'.format(self.name()))\n"
     ]
    }
   ],
   "source": [
    "mesh = iplt.pcolormesh(anomaly, cmap=anom_cmap, norm=anom_norm)"
   ]
  },
  {
   "cell_type": "markdown",
   "metadata": {},
   "source": [
    "Add a colourbar, with extensions to show handling of out-of-range values."
   ]
  },
  {
   "cell_type": "code",
   "execution_count": 12,
   "metadata": {},
   "outputs": [],
   "source": [
    "bar = plt.colorbar(mesh, orientation='horizontal', extend='both')"
   ]
  },
  {
   "cell_type": "markdown",
   "metadata": {},
   "source": [
    "Set some suitable fixed \"logarithmic\" colourbar tick positions."
   ]
  },
  {
   "cell_type": "code",
   "execution_count": 13,
   "metadata": {},
   "outputs": [],
   "source": [
    "tick_levels = [-3, -1, -0.3, 0.0, 0.3, 1, 3]\n",
    "bar.set_ticks(tick_levels)"
   ]
  },
  {
   "cell_type": "markdown",
   "metadata": {},
   "source": [
    "Modify the tick labels so that the centre one shows \"+/-<minumum-level>\"."
   ]
  },
  {
   "cell_type": "code",
   "execution_count": 14,
   "metadata": {},
   "outputs": [],
   "source": [
    "tick_levels[3] = r'$\\pm${:g}'.format(minimum_log_level)\n",
    "bar.set_ticklabels(tick_levels)"
   ]
  },
  {
   "cell_type": "markdown",
   "metadata": {},
   "source": [
    "Label the colourbar to show the units."
   ]
  },
  {
   "cell_type": "code",
   "execution_count": 15,
   "metadata": {},
   "outputs": [],
   "source": [
    "bar.set_label('[{}, log scale]'.format(anomaly.units))"
   ]
  },
  {
   "cell_type": "markdown",
   "metadata": {},
   "source": [
    "Add coastlines and a title."
   ]
  },
  {
   "cell_type": "code",
   "execution_count": 16,
   "metadata": {},
   "outputs": [
    {
     "data": {
      "text/plain": [
       "Text(0.5, 1.0, 'Temperature anomaly\\n1982 differences from 1860-2099 average.')"
      ]
     },
     "execution_count": 16,
     "metadata": {},
     "output_type": "execute_result"
    }
   ],
   "source": [
    "#plt.gca().coastlines()\n",
    "plt.title(plot_title)"
   ]
  },
  {
   "cell_type": "markdown",
   "metadata": {},
   "source": [
    "Display the result."
   ]
  },
  {
   "cell_type": "code",
   "execution_count": 17,
   "metadata": {},
   "outputs": [
    {
     "data": {
      "image/png": "[encoded data removed]",
      "text/plain": [
       "<Figure size 432x288 with 2 Axes>"
      ]
     },
     "metadata": {
      "needs_background": "light"
     },
     "output_type": "display_data"
    }
   ],
   "source": [
    "iplt.show()"
   ]
  },
  {
   "cell_type": "markdown",
   "metadata": {},
   "source": []
  },
  {
   "cell_type": "markdown",
   "metadata": {},
   "source": [
    "Below is the alternative to using `plt.ioff()`.  \n",
    "We turn intearctive plotting on again (`plt.ion()`), but execute all plot commands in a single cell."
   ]
  },
  {
   "cell_type": "code",
   "execution_count": 18,
   "metadata": {},
   "outputs": [],
   "source": [
    "plt.ion()"
   ]
  },
  {
   "cell_type": "code",
   "execution_count": 19,
   "metadata": {},
   "outputs": [
    {
     "data": {
      "image/png": "[encoded data removed]",
      "text/plain": [
       "<Figure size 432x288 with 2 Axes>"
      ]
     },
     "metadata": {
      "needs_background": "light"
     },
     "output_type": "display_data"
    }
   ],
   "source": [
    "# Create an Axes, specifying the map projection.\n",
    "plt.axes(projection=ccrs.LambertConformal())\n",
    "\n",
    "# Make a pseudocolour plot using this colour scheme.\n",
    "mesh = iplt.pcolormesh(anomaly, cmap=anom_cmap, norm=anom_norm)\n",
    "\n",
    "# Add a colourbar, with extensions to show handling of out-of-range values.\n",
    "bar = plt.colorbar(mesh, orientation='horizontal', extend='both')\n",
    "\n",
    "# Set some suitable fixed \"logarithmic\" colourbar tick positions.\n",
    "tick_levels = [-3, -1, -0.3, 0.0, 0.3, 1, 3]\n",
    "bar.set_ticks(tick_levels)\n",
    "\n",
    "# Modify the tick labels so that the centre one shows \"+/-<minumum-level>\".\n",
    "tick_levels[3] = r'$\\pm${:g}'.format(minimum_log_level)\n",
    "bar.set_ticklabels(tick_levels)\n",
    "\n",
    "# Label the colourbar to show the units.\n",
    "bar.set_label('[{}, log scale]'.format(anomaly.units))\n",
    "\n",
    "# Add coastlines and a title.\n",
    "plt.gca().coastlines()\n",
    "plt.title(plot_title)\n",
    "\n",
    "plt.show()"
   ]
  },
  {
   "cell_type": "code",
   "execution_count": null,
   "metadata": {},
   "outputs": [],
   "source": []
  }
 ],
 "metadata": {
  "kernelspec": {
   "display_name": "Python 3",
   "language": "python",
   "name": "python3"
  },
  "language_info": {
   "codemirror_mode": {
    "name": "ipython",
    "version": 3
   },
   "file_extension": ".py",
   "mimetype": "text/x-python",
   "name": "python",
   "nbconvert_exporter": "python",
   "pygments_lexer": "ipython3",
   "version": "3.7.3"
  }
 },
 "nbformat": 4,
 "nbformat_minor": 2
}
