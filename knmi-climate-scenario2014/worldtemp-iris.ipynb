{
 "cells": [
  {
   "cell_type": "markdown",
   "metadata": {},
   "source": [
    "## Introduction\n",
    "\n",
    "This notebook showcases both the use of notebooks in data exploration, and the use of Iris for reading and analysing datasets.\n",
    "Sections are somewhat lengthy, because it showcases the data exploration part, where a user will want to examine the various variables and results. A shorter version is available for a very quick overview of analysing datasets with Jupyter notebooks."
   ]
  },
  {
   "cell_type": "markdown",
   "metadata": {},
   "source": [
    "## Reading the data from URLs"
   ]
  },
  {
   "cell_type": "markdown",
   "metadata": {},
   "source": [
    "Iris can read from filenames or URLs, when files are served from an OpenDAP server. The `iris.load()` utility function takes a path or URL and will load the dataset lazily: it only reads the actual data when it's needed. This saves the memory and time overhead when there are multiple datasets inside a file and not all need to be used.\n",
    "\n",
    "But neither Iris nor netCDF4 can read directly from a URL if the file is not hosted by an OpenDAP server (which includes, for example, ftp sites).\n",
    "Since Iris also can't read a binary stream (file object), we are forced to first download the file, then save it to a temporary file, then read from that file. Note that the latter temporary file is still lazily loaded, though we had to download the full file over the internet."
   ]
  },
  {
   "cell_type": "code",
   "execution_count": 1,
   "metadata": {},
   "outputs": [],
   "source": [
    "from tempfile import NamedTemporaryFile\n",
    "from urllib.request import urlopen\n",
    "import iris"
   ]
  },
  {
   "cell_type": "markdown",
   "metadata": {},
   "source": [
    "Note that `iris.load()` returns a list of cubes, a `CubeList`, not a single cube. In case of a single datacube inside the file, that would result in a one-element list. In this case, there are two cubes, although the latter one is of less interest for the actual figure we'll make."
   ]
  },
  {
   "cell_type": "code",
   "execution_count": 2,
   "metadata": {},
   "outputs": [
    {
     "data": {
      "text/plain": [
       "[<iris 'Cube' of near_surface_temperature_anomaly / (K) (time: 2030; latitude: 36; longitude: 72)>,\n",
       "<iris 'Cube' of field_status / (1) (time: 2030; -- : 1)>]"
      ]
     },
     "execution_count": 2,
     "metadata": {},
     "output_type": "execute_result"
    }
   ],
   "source": [
    "url = 'https://crudata.uea.ac.uk/cru/data/temperature/HadCRUT.4.6.0.0.median.nc'\n",
    "with urlopen(url) as stream, NamedTemporaryFile(delete=False, suffix=\".nc\") as fp:\n",
    "    fp.write(stream.read())\n",
    "    cubes = iris.load(fp.name)\n",
    "cubes"
   ]
  },
  {
   "cell_type": "markdown",
   "metadata": {},
   "source": [
    "A slight disadvantage of the temporary file is that it may not get cleaned up immediately after we stop using the file. In fact, with Iris's lazy loading, we have to keep the file around until we're completely done with the data, hence the argument `delete=False`.  \n",
    "But each time we run the above cell, we create a new temporary file, and we may end up with a lot of temporary files containing the same data, taking up a lot of disk space. It is then more logical to just save the data to a specific named file, and use that all the time. For this demonstration, we use the temporary file option."
   ]
  },
  {
   "cell_type": "markdown",
   "metadata": {},
   "source": [
    "Since the above code can be annoying enough to remember, a small utility function `fetch` has been created; it needs to be imported from the `eucp` module. The `fetch` function takes a filepath or URI as first argument, and an optional `path` argument as the second argument: if `path` is set, it will be the location of the output file. If it's not set, a temporary file, like above, is created. If `path` is a directory, the filename is deduced from the URI and the file is created in that directory. Let's use the latter option with a newly created directory:"
   ]
  },
  {
   "cell_type": "code",
   "execution_count": 3,
   "metadata": {},
   "outputs": [],
   "source": [
    "import os\n",
    "os.makedirs('datafiles', exist_ok=True)"
   ]
  },
  {
   "cell_type": "markdown",
   "metadata": {},
   "source": [
    "You should see the directory appear in the browser area of the notebook. Let's download and save the dataset:"
   ]
  },
  {
   "cell_type": "code",
   "execution_count": 4,
   "metadata": {},
   "outputs": [
    {
     "data": {
      "text/plain": [
       "[<iris 'Cube' of near_surface_temperature_anomaly / (K) (time: 2030; latitude: 36; longitude: 72)>,\n",
       "<iris 'Cube' of field_status / (1) (time: 2030; -- : 1)>]"
      ]
     },
     "execution_count": 4,
     "metadata": {},
     "output_type": "execute_result"
    }
   ],
   "source": [
    "url = 'https://crudata.uea.ac.uk/cru/data/temperature/HadCRUT.4.6.0.0.median.nc'\n",
    "#url = 'datafiles/HadCRUT.4.6.0.0.median.nc'   # Use this for faster loading after the first download\n",
    "import eucp\n",
    "cubes = eucp.fetch(url, 'datafiles')\n",
    "cubes"
   ]
  },
  {
   "cell_type": "markdown",
   "metadata": {},
   "source": [
    "## Examining the data"
   ]
  },
  {
   "cell_type": "markdown",
   "metadata": {},
   "source": [
    "Iris doesn't order the list of cubes returned, so we'll first make sure they are in the order we want them (so that this notebook is consistent)."
   ]
  },
  {
   "cell_type": "code",
   "execution_count": 5,
   "metadata": {},
   "outputs": [
    {
     "data": {
      "text/plain": [
       "[<iris 'Cube' of near_surface_temperature_anomaly / (K) (time: 2030; latitude: 36; longitude: 72)>,\n",
       "<iris 'Cube' of field_status / (1) (time: 2030; -- : 1)>]"
      ]
     },
     "execution_count": 5,
     "metadata": {},
     "output_type": "execute_result"
    }
   ],
   "source": [
    "if cubes[0].name() == \"field_status\":\n",
    "    cubes = cubes[::-1]\n",
    "cubes"
   ]
  },
  {
   "cell_type": "markdown",
   "metadata": {},
   "source": [
    "Let's examine the first cube. Iris provides a nice representation in notebooks:"
   ]
  },
  {
   "cell_type": "code",
   "execution_count": 6,
   "metadata": {},
   "outputs": [
    {
     "data": {
      "text/html": [
       "\n",
       "<style>\n",
       "  a.iris {\n",
       "      text-decoration: none !important;\n",
       "  }\n",
       "  table.iris {\n",
       "      white-space: pre;\n",
       "      border: 1px solid;\n",
       "      border-color: #9c9c9c;\n",
       "      font-family: monaco, monospace;\n",
       "  }\n",
       "  th.iris {\n",
       "      background: #303f3f;\n",
       "      color: #e0e0e0;\n",
       "      border-left: 1px solid;\n",
       "      border-color: #9c9c9c;\n",
       "      font-size: 1.05em;\n",
       "      min-width: 50px;\n",
       "      max-width: 125px;\n",
       "  }\n",
       "  tr.iris :first-child {\n",
       "      border-right: 1px solid #9c9c9c !important;\n",
       "  }\n",
       "  td.iris-title {\n",
       "      background: #d5dcdf;\n",
       "      border-top: 1px solid #9c9c9c;\n",
       "      font-weight: bold;\n",
       "  }\n",
       "  .iris-word-cell {\n",
       "      text-align: left !important;\n",
       "      white-space: pre;\n",
       "  }\n",
       "  .iris-subheading-cell {\n",
       "      padding-left: 2em !important;\n",
       "  }\n",
       "  .iris-inclusion-cell {\n",
       "      padding-right: 1em !important;\n",
       "  }\n",
       "  .iris-panel-body {\n",
       "      padding-top: 0px;\n",
       "  }\n",
       "  .iris-panel-title {\n",
       "      padding-left: 3em;\n",
       "  }\n",
       "  .iris-panel-title {\n",
       "      margin-top: 7px;\n",
       "  }\n",
       "</style>\n",
       "<table class=\"iris\" id=\"140156756341368\">\n",
       "    <tr class=\"iris\">\n",
       "<th class=\"iris iris-word-cell\">Near Surface Temperature Anomaly (K)</th>\n",
       "<th class=\"iris iris-word-cell\">time</th>\n",
       "<th class=\"iris iris-word-cell\">latitude</th>\n",
       "<th class=\"iris iris-word-cell\">longitude</th>\n",
       "</tr>\n",
       "    <tr class=\"iris\">\n",
       "<td class=\"iris-word-cell iris-subheading-cell\">Shape</td>\n",
       "<td class=\"iris iris-inclusion-cell\">2030</td>\n",
       "<td class=\"iris iris-inclusion-cell\">36</td>\n",
       "<td class=\"iris iris-inclusion-cell\">72</td>\n",
       "</td>\n",
       "    <tr class=\"iris\">\n",
       "    <td class=\"iris-title iris-word-cell\">Dimension coordinates</td>\n",
       "    <td class=\"iris-title\"></td>\n",
       "    <td class=\"iris-title\"></td>\n",
       "    <td class=\"iris-title\"></td>\n",
       "</tr>\n",
       "<tr class=\"iris\">\n",
       "    <td class=\"iris-word-cell iris-subheading-cell\">\ttime</td>\n",
       "    <td class=\"iris-inclusion-cell\">x</td>\n",
       "    <td class=\"iris-inclusion-cell\">-</td>\n",
       "    <td class=\"iris-inclusion-cell\">-</td>\n",
       "</tr>\n",
       "<tr class=\"iris\">\n",
       "    <td class=\"iris-word-cell iris-subheading-cell\">\tlatitude</td>\n",
       "    <td class=\"iris-inclusion-cell\">-</td>\n",
       "    <td class=\"iris-inclusion-cell\">x</td>\n",
       "    <td class=\"iris-inclusion-cell\">-</td>\n",
       "</tr>\n",
       "<tr class=\"iris\">\n",
       "    <td class=\"iris-word-cell iris-subheading-cell\">\tlongitude</td>\n",
       "    <td class=\"iris-inclusion-cell\">-</td>\n",
       "    <td class=\"iris-inclusion-cell\">-</td>\n",
       "    <td class=\"iris-inclusion-cell\">x</td>\n",
       "</tr>\n",
       "<tr class=\"iris\">\n",
       "    <td class=\"iris-title iris-word-cell\">Attributes</td>\n",
       "    <td class=\"iris-title\"></td>\n",
       "    <td class=\"iris-title\"></td>\n",
       "    <td class=\"iris-title\"></td>\n",
       "</tr>\n",
       "<tr class=\"iris\">\n",
       "    <td class=\"iris-word-cell iris-subheading-cell\">\tConventions</td>\n",
       "    <td class=\"iris-word-cell\" colspan=\"3\">CF-1.0</td>\n",
       "</tr>\n",
       "<tr class=\"iris\">\n",
       "    <td class=\"iris-word-cell iris-subheading-cell\">\tcomment</td>\n",
       "    <td class=\"iris-word-cell\" colspan=\"3\"></td>\n",
       "</tr>\n",
       "<tr class=\"iris\">\n",
       "    <td class=\"iris-word-cell iris-subheading-cell\">\tensemble_member_index</td>\n",
       "    <td class=\"iris-word-cell\" colspan=\"3\">0</td>\n",
       "</tr>\n",
       "<tr class=\"iris\">\n",
       "    <td class=\"iris-word-cell iris-subheading-cell\">\tensemble_members</td>\n",
       "    <td class=\"iris-word-cell\" colspan=\"3\">100</td>\n",
       "</tr>\n",
       "<tr class=\"iris\">\n",
       "    <td class=\"iris-word-cell iris-subheading-cell\">\thistory</td>\n",
       "    <td class=\"iris-word-cell\" colspan=\"3\">Updated at 25/03/2019 16:03:56</td>\n",
       "</tr>\n",
       "<tr class=\"iris\">\n",
       "    <td class=\"iris-word-cell iris-subheading-cell\">\tinstitution</td>\n",
       "    <td class=\"iris-word-cell\" colspan=\"3\">Met Office Hadley Centre / Climatic Research Unit, University of East ...</td>\n",
       "</tr>\n",
       "<tr class=\"iris\">\n",
       "    <td class=\"iris-word-cell iris-subheading-cell\">\treference</td>\n",
       "    <td class=\"iris-word-cell\" colspan=\"3\">Morice, C. P., J. J. Kennedy, N. A. Rayner, and P. D. Jones (2012), Quantifying...</td>\n",
       "</tr>\n",
       "<tr class=\"iris\">\n",
       "    <td class=\"iris-word-cell iris-subheading-cell\">\treference_period</td>\n",
       "    <td class=\"iris-word-cell\" colspan=\"3\">[1961 1990]</td>\n",
       "</tr>\n",
       "<tr class=\"iris\">\n",
       "    <td class=\"iris-word-cell iris-subheading-cell\">\tsource</td>\n",
       "    <td class=\"iris-word-cell\" colspan=\"3\">CRUTEM.4.6.0.0, HadSST.3.1.1.0</td>\n",
       "</tr>\n",
       "<tr class=\"iris\">\n",
       "    <td class=\"iris-word-cell iris-subheading-cell\">\ttitle</td>\n",
       "    <td class=\"iris-word-cell\" colspan=\"3\">HadCRUT4 near-surface temperature ensemble data - ensemble median</td>\n",
       "</tr>\n",
       "<tr class=\"iris\">\n",
       "    <td class=\"iris-word-cell iris-subheading-cell\">\tversion</td>\n",
       "    <td class=\"iris-word-cell\" colspan=\"3\">HadCRUT.4.6.0.0</td>\n",
       "</tr>\n",
       "</table>\n",
       "        "
      ],
      "text/plain": [
       "<iris 'Cube' of near_surface_temperature_anomaly / (K) (time: 2030; latitude: 36; longitude: 72)>"
      ]
     },
     "execution_count": 6,
     "metadata": {},
     "output_type": "execute_result"
    }
   ],
   "source": [
    "cubes[0]"
   ]
  },
  {
   "cell_type": "markdown",
   "metadata": {},
   "source": [
    "And the second cube (which we'll discard later on):"
   ]
  },
  {
   "cell_type": "code",
   "execution_count": 7,
   "metadata": {},
   "outputs": [
    {
     "data": {
      "text/html": [
       "\n",
       "<style>\n",
       "  a.iris {\n",
       "      text-decoration: none !important;\n",
       "  }\n",
       "  table.iris {\n",
       "      white-space: pre;\n",
       "      border: 1px solid;\n",
       "      border-color: #9c9c9c;\n",
       "      font-family: monaco, monospace;\n",
       "  }\n",
       "  th.iris {\n",
       "      background: #303f3f;\n",
       "      color: #e0e0e0;\n",
       "      border-left: 1px solid;\n",
       "      border-color: #9c9c9c;\n",
       "      font-size: 1.05em;\n",
       "      min-width: 50px;\n",
       "      max-width: 125px;\n",
       "  }\n",
       "  tr.iris :first-child {\n",
       "      border-right: 1px solid #9c9c9c !important;\n",
       "  }\n",
       "  td.iris-title {\n",
       "      background: #d5dcdf;\n",
       "      border-top: 1px solid #9c9c9c;\n",
       "      font-weight: bold;\n",
       "  }\n",
       "  .iris-word-cell {\n",
       "      text-align: left !important;\n",
       "      white-space: pre;\n",
       "  }\n",
       "  .iris-subheading-cell {\n",
       "      padding-left: 2em !important;\n",
       "  }\n",
       "  .iris-inclusion-cell {\n",
       "      padding-right: 1em !important;\n",
       "  }\n",
       "  .iris-panel-body {\n",
       "      padding-top: 0px;\n",
       "  }\n",
       "  .iris-panel-title {\n",
       "      padding-left: 3em;\n",
       "  }\n",
       "  .iris-panel-title {\n",
       "      margin-top: 7px;\n",
       "  }\n",
       "</style>\n",
       "<table class=\"iris\" id=\"140156756328232\">\n",
       "    <tr class=\"iris\">\n",
       "<th class=\"iris iris-word-cell\">Field Status (1)</th>\n",
       "<th class=\"iris iris-word-cell\">time</th>\n",
       "<th class=\"iris iris-word-cell\">--</th>\n",
       "</tr>\n",
       "    <tr class=\"iris\">\n",
       "<td class=\"iris-word-cell iris-subheading-cell\">Shape</td>\n",
       "<td class=\"iris iris-inclusion-cell\">2030</td>\n",
       "<td class=\"iris iris-inclusion-cell\">1</td>\n",
       "</td>\n",
       "    <tr class=\"iris\">\n",
       "    <td class=\"iris-title iris-word-cell\">Dimension coordinates</td>\n",
       "    <td class=\"iris-title\"></td>\n",
       "    <td class=\"iris-title\"></td>\n",
       "</tr>\n",
       "<tr class=\"iris\">\n",
       "    <td class=\"iris-word-cell iris-subheading-cell\">\ttime</td>\n",
       "    <td class=\"iris-inclusion-cell\">x</td>\n",
       "    <td class=\"iris-inclusion-cell\">-</td>\n",
       "</tr>\n",
       "<tr class=\"iris\">\n",
       "    <td class=\"iris-title iris-word-cell\">Attributes</td>\n",
       "    <td class=\"iris-title\"></td>\n",
       "    <td class=\"iris-title\"></td>\n",
       "</tr>\n",
       "<tr class=\"iris\">\n",
       "    <td class=\"iris-word-cell iris-subheading-cell\">\tConventions</td>\n",
       "    <td class=\"iris-word-cell\" colspan=\"2\">CF-1.0</td>\n",
       "</tr>\n",
       "<tr class=\"iris\">\n",
       "    <td class=\"iris-word-cell iris-subheading-cell\">\tcomment</td>\n",
       "    <td class=\"iris-word-cell\" colspan=\"2\"></td>\n",
       "</tr>\n",
       "<tr class=\"iris\">\n",
       "    <td class=\"iris-word-cell iris-subheading-cell\">\tensemble_member_index</td>\n",
       "    <td class=\"iris-word-cell\" colspan=\"2\">0</td>\n",
       "</tr>\n",
       "<tr class=\"iris\">\n",
       "    <td class=\"iris-word-cell iris-subheading-cell\">\tensemble_members</td>\n",
       "    <td class=\"iris-word-cell\" colspan=\"2\">100</td>\n",
       "</tr>\n",
       "<tr class=\"iris\">\n",
       "    <td class=\"iris-word-cell iris-subheading-cell\">\thistory</td>\n",
       "    <td class=\"iris-word-cell\" colspan=\"2\">Updated at 25/03/2019 16:03:56</td>\n",
       "</tr>\n",
       "<tr class=\"iris\">\n",
       "    <td class=\"iris-word-cell iris-subheading-cell\">\tinstitution</td>\n",
       "    <td class=\"iris-word-cell\" colspan=\"2\">Met Office Hadley Centre / Climatic Research Unit, University of East ...</td>\n",
       "</tr>\n",
       "<tr class=\"iris\">\n",
       "    <td class=\"iris-word-cell iris-subheading-cell\">\treference</td>\n",
       "    <td class=\"iris-word-cell\" colspan=\"2\">Morice, C. P., J. J. Kennedy, N. A. Rayner, and P. D. Jones (2012), Quantifying...</td>\n",
       "</tr>\n",
       "<tr class=\"iris\">\n",
       "    <td class=\"iris-word-cell iris-subheading-cell\">\tsource</td>\n",
       "    <td class=\"iris-word-cell\" colspan=\"2\">CRUTEM.4.6.0.0, HadSST.3.1.1.0</td>\n",
       "</tr>\n",
       "<tr class=\"iris\">\n",
       "    <td class=\"iris-word-cell iris-subheading-cell\">\ttitle</td>\n",
       "    <td class=\"iris-word-cell\" colspan=\"2\">HadCRUT4 near-surface temperature ensemble data - ensemble median</td>\n",
       "</tr>\n",
       "<tr class=\"iris\">\n",
       "    <td class=\"iris-word-cell iris-subheading-cell\">\tversion</td>\n",
       "    <td class=\"iris-word-cell\" colspan=\"2\">HadCRUT.4.6.0.0</td>\n",
       "</tr>\n",
       "</table>\n",
       "        "
      ],
      "text/plain": [
       "<iris 'Cube' of field_status / (1) (time: 2030; -- : 1)>"
      ]
     },
     "execution_count": 7,
     "metadata": {},
     "output_type": "execute_result"
    }
   ],
   "source": [
    "cubes[1]"
   ]
  },
  {
   "cell_type": "markdown",
   "metadata": {},
   "source": [
    "Out of curiosity, what is precisely in that second cube?\n",
    "Let's look at the unique data values."
   ]
  },
  {
   "cell_type": "code",
   "execution_count": 8,
   "metadata": {},
   "outputs": [
    {
     "data": {
      "text/plain": [
       "(masked_array(data=[b'f', b'p'],\n",
       "              mask=False,\n",
       "        fill_value=b'N',\n",
       "             dtype='|S1'), array([b'f'], dtype='|S1'))"
      ]
     },
     "execution_count": 8,
     "metadata": {},
     "output_type": "execute_result"
    }
   ],
   "source": [
    "import numpy as np\n",
    "np.unique(cubes[1].data), np.unique(cubes[1].data.data[:-20])"
   ]
  },
  {
   "cell_type": "markdown",
   "metadata": {},
   "source": [
    "A set of 2030 'f' and 'p' single characters, relating to the time coordinate, with 'p' values only at the end of the array. Presumably related to the validation or verification of the data."
   ]
  },
  {
   "cell_type": "markdown",
   "metadata": {},
   "source": [
    "Let's have a look at the coordinates of the first dataset:"
   ]
  },
  {
   "cell_type": "code",
   "execution_count": 9,
   "metadata": {},
   "outputs": [
    {
     "data": {
      "text/plain": [
       "[DimCoord(array([1.55000e+01, 4.50000e+01, 7.45000e+01, ..., 6.17105e+04,\n",
       "        6.17415e+04, 6.17710e+04], dtype=float32), standard_name='time', units=Unit('days since 1850-1-1 00:00:00', calendar='gregorian'), long_name='time', var_name='time', attributes={'end_month': 2, 'end_year': 2019, 'start_month': 1, 'start_year': 1850}),\n",
       " DimCoord(array([-87.5, -82.5, -77.5, -72.5, -67.5, -62.5, -57.5, -52.5, -47.5,\n",
       "        -42.5, -37.5, -32.5, -27.5, -22.5, -17.5, -12.5,  -7.5,  -2.5,\n",
       "          2.5,   7.5,  12.5,  17.5,  22.5,  27.5,  32.5,  37.5,  42.5,\n",
       "         47.5,  52.5,  57.5,  62.5,  67.5,  72.5,  77.5,  82.5,  87.5],\n",
       "       dtype=float32), standard_name='latitude', units=Unit('degrees'), long_name='latitude', var_name='latitude', attributes={'point_spacing': 'even'}),\n",
       " DimCoord(array([-177.5, -172.5, -167.5, -162.5, -157.5, -152.5, -147.5, -142.5,\n",
       "        -137.5, -132.5, -127.5, -122.5, -117.5, -112.5, -107.5, -102.5,\n",
       "         -97.5,  -92.5,  -87.5,  -82.5,  -77.5,  -72.5,  -67.5,  -62.5,\n",
       "         -57.5,  -52.5,  -47.5,  -42.5,  -37.5,  -32.5,  -27.5,  -22.5,\n",
       "         -17.5,  -12.5,   -7.5,   -2.5,    2.5,    7.5,   12.5,   17.5,\n",
       "          22.5,   27.5,   32.5,   37.5,   42.5,   47.5,   52.5,   57.5,\n",
       "          62.5,   67.5,   72.5,   77.5,   82.5,   87.5,   92.5,   97.5,\n",
       "         102.5,  107.5,  112.5,  117.5,  122.5,  127.5,  132.5,  137.5,\n",
       "         142.5,  147.5,  152.5,  157.5,  162.5,  167.5,  172.5,  177.5],\n",
       "       dtype=float32), standard_name='longitude', units=Unit('degrees'), long_name='longitude', var_name='longitude', attributes={'point_spacing': 'even'})]"
      ]
     },
     "execution_count": 9,
     "metadata": {},
     "output_type": "execute_result"
    }
   ],
   "source": [
    "cube1 = cubes[0]\n",
    "cube1.coords()"
   ]
  },
  {
   "cell_type": "markdown",
   "metadata": {},
   "source": [
    "## Fixing the dimensions\n",
    "\n",
    "The coordinates are missing bounds, which we'll want to use later on, when averaging over the area.\n",
    "Iris has a utility function that allows it to guess the bounds from the grid, which in this case will work well, since it's a very regular grid.\n",
    "Note that in the cell below, a few lines have been commented out:\n",
    "- when bounds exists (previously guessed or not), Iris will not allow someone to override the bounds. You'll have to explicitly set the bounds to `None` before you can guess the bounds again. So when running the cell multiple times, the first three lines will need to be uncommented to avoid errors.\n",
    "- the counds consist of two dimensional NumPy arrays. The way (and shape of the arrays) these are printed by default causes lengthy outputs. to avoid that, I've commented out the last line, but feel free to uncoment and see what the guessed bounds are."
   ]
  },
  {
   "cell_type": "code",
   "execution_count": 10,
   "metadata": {},
   "outputs": [],
   "source": [
    "#cube1.coord('time').bounds = None\n",
    "#cube1.coord('latitude').bounds = None\n",
    "#cube1.coord('longitude').bounds = None\n",
    "cube1.coord('time').guess_bounds()\n",
    "cube1.coord('latitude').guess_bounds()\n",
    "cube1.coord('longitude').guess_bounds()\n",
    "#cube1.coord('latitude'), cube1.coord('longitude'), cube.coord('time')"
   ]
  },
  {
   "cell_type": "markdown",
   "metadata": {},
   "source": [
    "## Reading the other datasets\n",
    "\n",
    "Before proceeding with the analysis, let's read the other datasets of interest."
   ]
  },
  {
   "cell_type": "code",
   "execution_count": 11,
   "metadata": {},
   "outputs": [
    {
     "name": "stderr",
     "output_type": "stream",
     "text": [
      "/opt/conda/lib/python3.6/site-packages/iris/fileformats/_pyke_rules/compiled_krb/fc_rules_cf_fc.py:1725: UnknownCellMethodWarning: NetCDF variable 'air' contains unknown cell method 'anomaly'\n",
      "  warnings.warn(message=msg, category=UnknownCellMethodWarning)\n",
      "/opt/conda/lib/python3.6/site-packages/iris/fileformats/_pyke_rules/compiled_krb/fc_rules_cf_fc.py:2036: UserWarning: Gracefully filling 'time' dimension coordinate masked bounds\n",
      "  warnings.warn(msg.format(str(cf_coord_var.cf_name)))\n",
      "/opt/conda/lib/python3.6/site-packages/iris/fileformats/_pyke_rules/compiled_krb/fc_rules_cf_fc.py:2076: UserWarning: Failed to create 'time' dimension coordinate: The bounds array must be strictly monotonic.\n",
      "Gracefully creating 'time' auxiliary coordinate instead.\n",
      "  error=e_msg))\n"
     ]
    },
    {
     "data": {
      "text/plain": [
       "[<iris 'Cube' of air_temperature_anomaly / (degC) (-- : 1671; latitude: 36; longitude: 72)>]"
      ]
     },
     "execution_count": 11,
     "metadata": {},
     "output_type": "execute_result"
    }
   ],
   "source": [
    "url = 'ftp://ftp.cdc.noaa.gov/Datasets/noaaglobaltemp/air.mon.anom.nc'\n",
    "#url = 'datafiles/air.mon.anom.nc'   # Use this for faster loading after the first download\n",
    "cubes = eucp.fetch(url, 'datafiles')\n",
    "cubes"
   ]
  },
  {
   "cell_type": "markdown",
   "metadata": {},
   "source": [
    "There is only one cube of interest in this list; let's examine that cube"
   ]
  },
  {
   "cell_type": "code",
   "execution_count": 12,
   "metadata": {},
   "outputs": [
    {
     "data": {
      "text/html": [
       "\n",
       "<style>\n",
       "  a.iris {\n",
       "      text-decoration: none !important;\n",
       "  }\n",
       "  table.iris {\n",
       "      white-space: pre;\n",
       "      border: 1px solid;\n",
       "      border-color: #9c9c9c;\n",
       "      font-family: monaco, monospace;\n",
       "  }\n",
       "  th.iris {\n",
       "      background: #303f3f;\n",
       "      color: #e0e0e0;\n",
       "      border-left: 1px solid;\n",
       "      border-color: #9c9c9c;\n",
       "      font-size: 1.05em;\n",
       "      min-width: 50px;\n",
       "      max-width: 125px;\n",
       "  }\n",
       "  tr.iris :first-child {\n",
       "      border-right: 1px solid #9c9c9c !important;\n",
       "  }\n",
       "  td.iris-title {\n",
       "      background: #d5dcdf;\n",
       "      border-top: 1px solid #9c9c9c;\n",
       "      font-weight: bold;\n",
       "  }\n",
       "  .iris-word-cell {\n",
       "      text-align: left !important;\n",
       "      white-space: pre;\n",
       "  }\n",
       "  .iris-subheading-cell {\n",
       "      padding-left: 2em !important;\n",
       "  }\n",
       "  .iris-inclusion-cell {\n",
       "      padding-right: 1em !important;\n",
       "  }\n",
       "  .iris-panel-body {\n",
       "      padding-top: 0px;\n",
       "  }\n",
       "  .iris-panel-title {\n",
       "      padding-left: 3em;\n",
       "  }\n",
       "  .iris-panel-title {\n",
       "      margin-top: 7px;\n",
       "  }\n",
       "</style>\n",
       "<table class=\"iris\" id=\"140156755034576\">\n",
       "    <tr class=\"iris\">\n",
       "<th class=\"iris iris-word-cell\">Air Temperature Anomaly (degC)</th>\n",
       "<th class=\"iris iris-word-cell\">--</th>\n",
       "<th class=\"iris iris-word-cell\">latitude</th>\n",
       "<th class=\"iris iris-word-cell\">longitude</th>\n",
       "</tr>\n",
       "    <tr class=\"iris\">\n",
       "<td class=\"iris-word-cell iris-subheading-cell\">Shape</td>\n",
       "<td class=\"iris iris-inclusion-cell\">1671</td>\n",
       "<td class=\"iris iris-inclusion-cell\">36</td>\n",
       "<td class=\"iris iris-inclusion-cell\">72</td>\n",
       "</td>\n",
       "    <tr class=\"iris\">\n",
       "    <td class=\"iris-title iris-word-cell\">Dimension coordinates</td>\n",
       "    <td class=\"iris-title\"></td>\n",
       "    <td class=\"iris-title\"></td>\n",
       "    <td class=\"iris-title\"></td>\n",
       "</tr>\n",
       "<tr class=\"iris\">\n",
       "    <td class=\"iris-word-cell iris-subheading-cell\">\tlatitude</td>\n",
       "    <td class=\"iris-inclusion-cell\">-</td>\n",
       "    <td class=\"iris-inclusion-cell\">x</td>\n",
       "    <td class=\"iris-inclusion-cell\">-</td>\n",
       "</tr>\n",
       "<tr class=\"iris\">\n",
       "    <td class=\"iris-word-cell iris-subheading-cell\">\tlongitude</td>\n",
       "    <td class=\"iris-inclusion-cell\">-</td>\n",
       "    <td class=\"iris-inclusion-cell\">-</td>\n",
       "    <td class=\"iris-inclusion-cell\">x</td>\n",
       "</tr>\n",
       "<tr class=\"iris\">\n",
       "    <td class=\"iris-title iris-word-cell\">Auxiliary coordinates</td>\n",
       "    <td class=\"iris-title\"></td>\n",
       "    <td class=\"iris-title\"></td>\n",
       "    <td class=\"iris-title\"></td>\n",
       "</tr>\n",
       "<tr class=\"iris\">\n",
       "    <td class=\"iris-word-cell iris-subheading-cell\">\ttime</td>\n",
       "    <td class=\"iris-inclusion-cell\">x</td>\n",
       "    <td class=\"iris-inclusion-cell\">-</td>\n",
       "    <td class=\"iris-inclusion-cell\">-</td>\n",
       "</tr>\n",
       "<tr class=\"iris\">\n",
       "    <td class=\"iris-title iris-word-cell\">Attributes</td>\n",
       "    <td class=\"iris-title\"></td>\n",
       "    <td class=\"iris-title\"></td>\n",
       "    <td class=\"iris-title\"></td>\n",
       "</tr>\n",
       "<tr class=\"iris\">\n",
       "    <td class=\"iris-word-cell iris-subheading-cell\">\tConventions</td>\n",
       "    <td class=\"iris-word-cell\" colspan=\"3\">CF-1.0</td>\n",
       "</tr>\n",
       "<tr class=\"iris\">\n",
       "    <td class=\"iris-word-cell iris-subheading-cell\">\tReferences</td>\n",
       "    <td class=\"iris-word-cell\" colspan=\"3\">https://www.esrl.noaa.gov/psd/data/gridded/data.noaaglobaltemp.html</td>\n",
       "</tr>\n",
       "<tr class=\"iris\">\n",
       "    <td class=\"iris-word-cell iris-subheading-cell\">\tSource</td>\n",
       "    <td class=\"iris-word-cell\" colspan=\"3\">ftp://ftp.ncdc.noaa.gov/pub/data/noaaglobaltemp/operational/</td>\n",
       "</tr>\n",
       "<tr class=\"iris\">\n",
       "    <td class=\"iris-word-cell iris-subheading-cell\">\tactual_range</td>\n",
       "    <td class=\"iris-word-cell\" colspan=\"3\">[-20.1062  16.6962]</td>\n",
       "</tr>\n",
       "<tr class=\"iris\">\n",
       "    <td class=\"iris-word-cell iris-subheading-cell\">\tdata_modified</td>\n",
       "    <td class=\"iris-word-cell\" colspan=\"3\">2019-05-15</td>\n",
       "</tr>\n",
       "<tr class=\"iris\">\n",
       "    <td class=\"iris-word-cell iris-subheading-cell\">\tdataset</td>\n",
       "    <td class=\"iris-word-cell\" colspan=\"3\">NOAA Global Temperature</td>\n",
       "</tr>\n",
       "<tr class=\"iris\">\n",
       "    <td class=\"iris-word-cell iris-subheading-cell\">\tdataset_title</td>\n",
       "    <td class=\"iris-word-cell\" colspan=\"3\">NOAA Global Surface Temperature (NOAAGlobalTemp)</td>\n",
       "</tr>\n",
       "<tr class=\"iris\">\n",
       "    <td class=\"iris-word-cell iris-subheading-cell\">\tdate_modified</td>\n",
       "    <td class=\"iris-word-cell\" colspan=\"3\">06 Mar 2019</td>\n",
       "</tr>\n",
       "<tr class=\"iris\">\n",
       "    <td class=\"iris-word-cell iris-subheading-cell\">\tdate_of_file_acquired</td>\n",
       "    <td class=\"iris-word-cell\" colspan=\"3\">2019-5-15</td>\n",
       "</tr>\n",
       "<tr class=\"iris\">\n",
       "    <td class=\"iris-word-cell iris-subheading-cell\">\thistory</td>\n",
       "    <td class=\"iris-word-cell\" colspan=\"3\">Created 12/16 using new V4.00 data from changed operational directory</td>\n",
       "</tr>\n",
       "<tr class=\"iris\">\n",
       "    <td class=\"iris-word-cell iris-subheading-cell\">\tlevel_desc</td>\n",
       "    <td class=\"iris-word-cell\" colspan=\"3\">Surface</td>\n",
       "</tr>\n",
       "<tr class=\"iris\">\n",
       "    <td class=\"iris-word-cell iris-subheading-cell\">\tparent_stat</td>\n",
       "    <td class=\"iris-word-cell\" colspan=\"3\">Observation</td>\n",
       "</tr>\n",
       "<tr class=\"iris\">\n",
       "    <td class=\"iris-word-cell iris-subheading-cell\">\tplatform</td>\n",
       "    <td class=\"iris-word-cell\" colspan=\"3\">Surface</td>\n",
       "</tr>\n",
       "<tr class=\"iris\">\n",
       "    <td class=\"iris-word-cell iris-subheading-cell\">\tprecision</td>\n",
       "    <td class=\"iris-word-cell\" colspan=\"3\">2</td>\n",
       "</tr>\n",
       "<tr class=\"iris\">\n",
       "    <td class=\"iris-word-cell iris-subheading-cell\">\tsource</td>\n",
       "    <td class=\"iris-word-cell\" colspan=\"3\">ftp://ftp.ncdc.noaa.gov/pub/data/noaaglobaltemp/operational/</td>\n",
       "</tr>\n",
       "<tr class=\"iris\">\n",
       "    <td class=\"iris-word-cell iris-subheading-cell\">\tstatistic</td>\n",
       "    <td class=\"iris-word-cell\" colspan=\"3\">Anomaly</td>\n",
       "</tr>\n",
       "<tr class=\"iris\">\n",
       "    <td class=\"iris-word-cell iris-subheading-cell\">\ttitle</td>\n",
       "    <td class=\"iris-word-cell\" colspan=\"3\">NOAA Global Temperature</td>\n",
       "</tr>\n",
       "<tr class=\"iris\">\n",
       "    <td class=\"iris-word-cell iris-subheading-cell\">\tvalid_range</td>\n",
       "    <td class=\"iris-word-cell\" colspan=\"3\">[-40.  40.]</td>\n",
       "</tr>\n",
       "<tr class=\"iris\">\n",
       "    <td class=\"iris-word-cell iris-subheading-cell\">\tvar_desc</td>\n",
       "    <td class=\"iris-word-cell\" colspan=\"3\">Air Temperature</td>\n",
       "</tr>\n",
       "<tr class=\"iris\">\n",
       "    <td class=\"iris-word-cell iris-subheading-cell\">\tversion</td>\n",
       "    <td class=\"iris-word-cell\" colspan=\"3\">V4.01</td>\n",
       "</tr>\n",
       "<tr class=\"iris\">\n",
       "    <td class=\"iris-title iris-word-cell\">Cell methods</td>\n",
       "    <td class=\"iris-title\"></td>\n",
       "    <td class=\"iris-title\"></td>\n",
       "    <td class=\"iris-title\"></td>\n",
       "</tr>\n",
       "<tr class=\"iris\">\n",
       "    <td class=\"iris-word-cell iris-subheading-cell\">\tanomaly</td>\n",
       "    <td class=\"iris-word-cell\" colspan=\"3\">time (monthly from values)</td>\n",
       "</tr>\n",
       "</table>\n",
       "        "
      ],
      "text/plain": [
       "<iris 'Cube' of air_temperature_anomaly / (degC) (-- : 1671; latitude: 36; longitude: 72)>"
      ]
     },
     "execution_count": 12,
     "metadata": {},
     "output_type": "execute_result"
    }
   ],
   "source": [
    "cube2 = cubes[0]\n",
    "cube2"
   ]
  },
  {
   "cell_type": "markdown",
   "metadata": {},
   "source": [
    "Note that the time coordinate is an auxiliary coordinate; let's have a closer look"
   ]
  },
  {
   "cell_type": "code",
   "execution_count": 13,
   "metadata": {},
   "outputs": [
    {
     "data": {
      "text/plain": [
       "AuxCoord(array([29219., 29250., 29279., ..., 79988., 80019., 80047.]), bounds=array([[9.96920997e+36, 9.96920997e+36],\n",
       "       [9.96920997e+36, 9.96920997e+36],\n",
       "       [9.96920997e+36, 9.96920997e+36],\n",
       "       ...,\n",
       "       [9.96920997e+36, 9.96920997e+36],\n",
       "       [9.96920997e+36, 9.96920997e+36],\n",
       "       [9.96920997e+36, 9.96920997e+36]]), standard_name='time', units=Unit('days since 1800-1-1 00:00:0.0', calendar='gregorian'), long_name='Time', var_name='time', attributes={'actual_range': array([29219., 80047.]), 'avg_period': '0000-01-00 00:00:00', 'coordinate_defines': 'start', 'delta_t': '0000-01-00 00:00:00'})"
      ]
     },
     "execution_count": 13,
     "metadata": {},
     "output_type": "execute_result"
    }
   ],
   "source": [
    "cube2.coord('time')"
   ]
  },
  {
   "cell_type": "markdown",
   "metadata": {},
   "source": [
    "The bounds for the time coordinate are all off. These look like fill values, and the original input had masked bounds.\n",
    "Let guess the proper bounds."
   ]
  },
  {
   "cell_type": "code",
   "execution_count": 14,
   "metadata": {},
   "outputs": [],
   "source": [
    "cube2.coord('time').bounds = None\n",
    "cube2.coord('time').guess_bounds()"
   ]
  },
  {
   "cell_type": "markdown",
   "metadata": {},
   "source": [
    "Once the bounds are fixed, we can make the time coordinate a proper dimension coordinate. Iris has a utility function to upgrade an auxiliary coordinate to a dimension coordinate."
   ]
  },
  {
   "cell_type": "code",
   "execution_count": 15,
   "metadata": {},
   "outputs": [
    {
     "data": {
      "text/plain": [
       "DimCoord(array([29219., 29250., 29279., ..., 79988., 80019., 80047.]), bounds=array([[29203.5, 29234.5],\n",
       "       [29234.5, 29264.5],\n",
       "       [29264.5, 29294.5],\n",
       "       ...,\n",
       "       [79972.5, 80003.5],\n",
       "       [80003.5, 80033. ],\n",
       "       [80033. , 80061. ]]), standard_name='time', units=Unit('days since 1800-1-1 00:00:0.0', calendar='gregorian'), long_name='Time', var_name='time', attributes={'actual_range': array([29219., 80047.]), 'avg_period': '0000-01-00 00:00:00', 'coordinate_defines': 'start', 'delta_t': '0000-01-00 00:00:00'})"
      ]
     },
     "execution_count": 15,
     "metadata": {},
     "output_type": "execute_result"
    }
   ],
   "source": [
    "iris.util.promote_aux_coord_to_dim_coord(cube2, 'time')\n",
    "cube2.coord('time')"
   ]
  },
  {
   "cell_type": "markdown",
   "metadata": {},
   "source": [
    "Much better. Let's update the bounds for the longitude and latitude as well."
   ]
  },
  {
   "cell_type": "code",
   "execution_count": 16,
   "metadata": {},
   "outputs": [],
   "source": [
    "#cube2.coord('latitude').bounds = None\n",
    "#cube2.coord('longitude').bounds = None\n",
    "cube2.coord('latitude').guess_bounds()\n",
    "cube2.coord('longitude').guess_bounds()\n",
    "#cube2.coord('latitude'), cube2.coord('longitude')"
   ]
  },
  {
   "cell_type": "markdown",
   "metadata": {},
   "source": [
    "The same procecure for the last dataset: load it, select the right cube, and fix the coordinates as necessary"
   ]
  },
  {
   "cell_type": "code",
   "execution_count": 17,
   "metadata": {},
   "outputs": [
    {
     "name": "stderr",
     "output_type": "stream",
     "text": [
      "/opt/conda/lib/python3.6/site-packages/iris/fileformats/_pyke_rules/compiled_krb/fc_rules_cf_fc.py:1725: UnknownCellMethodWarning: NetCDF variable 'air' contains unknown cell method 'anomaly'\n",
      "  warnings.warn(message=msg, category=UnknownCellMethodWarning)\n"
     ]
    },
    {
     "data": {
      "text/plain": [
       "[<iris 'Cube' of air_temperature_anomaly / (degC) (time: 1671; latitude: 90; longitude: 180)>]"
      ]
     },
     "execution_count": 17,
     "metadata": {},
     "output_type": "execute_result"
    }
   ],
   "source": [
    "url = 'ftp://ftp.cdc.noaa.gov/Datasets/gistemp/landonly/250km/air.2x2.250.mon.anom.land.nc'\n",
    "#url = 'datafiles/air.2x2.250.mon.anom.land.nc'      # Use this for faster loading after the first download\n",
    "cubes = eucp.fetch(url, 'datafiles')\n",
    "cubes"
   ]
  },
  {
   "cell_type": "code",
   "execution_count": 18,
   "metadata": {},
   "outputs": [],
   "source": [
    "cube3 = cubes[0]"
   ]
  },
  {
   "cell_type": "code",
   "execution_count": 19,
   "metadata": {},
   "outputs": [
    {
     "data": {
      "text/plain": [
       "[DimCoord(array([29219., 29250., 29279., ..., 79988., 80019., 80047.]), standard_name='time', units=Unit('days since 1800-1-1 00:00:00', calendar='gregorian'), long_name='Time', var_name='time', attributes={'actual_range': array([29219., 80047.]), 'avg_period': '0000-01-00 00:00:00', 'delta_t': '0000-01-00 00:00:00'}),\n",
       " DimCoord(array([ 89.,  87.,  85.,  83.,  81.,  79.,  77.,  75.,  73.,  71.,  69.,\n",
       "         67.,  65.,  63.,  61.,  59.,  57.,  55.,  53.,  51.,  49.,  47.,\n",
       "         45.,  43.,  41.,  39.,  37.,  35.,  33.,  31.,  29.,  27.,  25.,\n",
       "         23.,  21.,  19.,  17.,  15.,  13.,  11.,   9.,   7.,   5.,   3.,\n",
       "          1.,  -1.,  -3.,  -5.,  -7.,  -9., -11., -13., -15., -17., -19.,\n",
       "        -21., -23., -25., -27., -29., -31., -33., -35., -37., -39., -41.,\n",
       "        -43., -45., -47., -49., -51., -53., -55., -57., -59., -61., -63.,\n",
       "        -65., -67., -69., -71., -73., -75., -77., -79., -81., -83., -85.,\n",
       "        -87., -89.], dtype=float32), standard_name='latitude', units=Unit('degrees'), long_name='Latitude', var_name='lat', attributes={'actual_range': array([ 89., -89.], dtype=float32), 'coordinate_defines': 'center'}),\n",
       " DimCoord(array([  1.,   3.,   5.,   7.,   9.,  11.,  13.,  15.,  17.,  19.,  21.,\n",
       "         23.,  25.,  27.,  29.,  31.,  33.,  35.,  37.,  39.,  41.,  43.,\n",
       "         45.,  47.,  49.,  51.,  53.,  55.,  57.,  59.,  61.,  63.,  65.,\n",
       "         67.,  69.,  71.,  73.,  75.,  77.,  79.,  81.,  83.,  85.,  87.,\n",
       "         89.,  91.,  93.,  95.,  97.,  99., 101., 103., 105., 107., 109.,\n",
       "        111., 113., 115., 117., 119., 121., 123., 125., 127., 129., 131.,\n",
       "        133., 135., 137., 139., 141., 143., 145., 147., 149., 151., 153.,\n",
       "        155., 157., 159., 161., 163., 165., 167., 169., 171., 173., 175.,\n",
       "        177., 179., 181., 183., 185., 187., 189., 191., 193., 195., 197.,\n",
       "        199., 201., 203., 205., 207., 209., 211., 213., 215., 217., 219.,\n",
       "        221., 223., 225., 227., 229., 231., 233., 235., 237., 239., 241.,\n",
       "        243., 245., 247., 249., 251., 253., 255., 257., 259., 261., 263.,\n",
       "        265., 267., 269., 271., 273., 275., 277., 279., 281., 283., 285.,\n",
       "        287., 289., 291., 293., 295., 297., 299., 301., 303., 305., 307.,\n",
       "        309., 311., 313., 315., 317., 319., 321., 323., 325., 327., 329.,\n",
       "        331., 333., 335., 337., 339., 341., 343., 345., 347., 349., 351.,\n",
       "        353., 355., 357., 359.], dtype=float32), standard_name='longitude', units=Unit('degrees'), long_name='Longitude', var_name='lon', attributes={'actual_range': array([  1., 359.], dtype=float32), 'coordinate_defines': 'center'}, circular=True)]"
      ]
     },
     "execution_count": 19,
     "metadata": {},
     "output_type": "execute_result"
    }
   ],
   "source": [
    "cube3.coords()"
   ]
  },
  {
   "cell_type": "code",
   "execution_count": 20,
   "metadata": {},
   "outputs": [],
   "source": [
    "#cube3.coord('latitude').bounds = None\n",
    "#cube3.coord('longitude').bounds = None\n",
    "cube3.coord('latitude').guess_bounds()\n",
    "cube3.coord('longitude').guess_bounds()\n",
    "#cube3.coord('latitude'), cube2.coord('longitude')"
   ]
  },
  {
   "cell_type": "markdown",
   "metadata": {},
   "source": [
    "We'll put all three cubes into a list; (or a set, since order doesn't really matter).\n",
    "Iris has a `CubeList`, but since we'll not use any of the specific functionality of a `CubeList`, we'll just use a normal list"
   ]
  },
  {
   "cell_type": "code",
   "execution_count": 21,
   "metadata": {},
   "outputs": [
    {
     "data": {
      "text/plain": [
       "[<iris 'Cube' of near_surface_temperature_anomaly / (K) (time: 2030; latitude: 36; longitude: 72)>,\n",
       " <iris 'Cube' of air_temperature_anomaly / (degC) (time: 1671; latitude: 36; longitude: 72)>,\n",
       " <iris 'Cube' of air_temperature_anomaly / (degC) (time: 1671; latitude: 90; longitude: 180)>]"
      ]
     },
     "execution_count": 21,
     "metadata": {},
     "output_type": "execute_result"
    }
   ],
   "source": [
    "cubes = [cube1, cube2, cube3]\n",
    "cubes"
   ]
  },
  {
   "cell_type": "markdown",
   "metadata": {},
   "source": [
    "## Calculating the global mean\n",
    "\n",
    "To calculate the global mean temperature, we \"collapse\" the cube over latitude and longitude, using the mean function, and with area weights applied. The area weights need to be calculated separately for each cube, and are obtained from the latitude and longitude bounds."
   ]
  },
  {
   "cell_type": "code",
   "execution_count": 22,
   "metadata": {},
   "outputs": [
    {
     "name": "stderr",
     "output_type": "stream",
     "text": [
      "/opt/conda/lib/python3.6/site-packages/iris/analysis/cartography.py:394: UserWarning: Using DEFAULT_SPHERICAL_EARTH_RADIUS.\n",
      "  warnings.warn(\"Using DEFAULT_SPHERICAL_EARTH_RADIUS.\")\n"
     ]
    },
    {
     "data": {
      "text/plain": [
       "[<iris 'Cube' of near_surface_temperature_anomaly / (K) (time: 2030)>,\n",
       " <iris 'Cube' of air_temperature_anomaly / (degC) (time: 1671)>,\n",
       " <iris 'Cube' of air_temperature_anomaly / (degC) (time: 1671)>]"
      ]
     },
     "execution_count": 22,
     "metadata": {},
     "output_type": "execute_result"
    }
   ],
   "source": [
    "means = []\n",
    "for cube in cubes:\n",
    "    weights = iris.analysis.cartography.area_weights(cube)\n",
    "    mean = cube.collapsed(['latitude', 'longitude'], iris.analysis.MEAN, weights=weights)\n",
    "    means.append(mean)\n",
    "means"
   ]
  },
  {
   "cell_type": "markdown",
   "metadata": {},
   "source": [
    "Each mean is still an Iris cube, with all relevant meta information. The dimensions are obviously reduced to just time; let's look at one cube"
   ]
  },
  {
   "cell_type": "code",
   "execution_count": 23,
   "metadata": {},
   "outputs": [
    {
     "data": {
      "text/html": [
       "\n",
       "<style>\n",
       "  a.iris {\n",
       "      text-decoration: none !important;\n",
       "  }\n",
       "  table.iris {\n",
       "      white-space: pre;\n",
       "      border: 1px solid;\n",
       "      border-color: #9c9c9c;\n",
       "      font-family: monaco, monospace;\n",
       "  }\n",
       "  th.iris {\n",
       "      background: #303f3f;\n",
       "      color: #e0e0e0;\n",
       "      border-left: 1px solid;\n",
       "      border-color: #9c9c9c;\n",
       "      font-size: 1.05em;\n",
       "      min-width: 50px;\n",
       "      max-width: 125px;\n",
       "  }\n",
       "  tr.iris :first-child {\n",
       "      border-right: 1px solid #9c9c9c !important;\n",
       "  }\n",
       "  td.iris-title {\n",
       "      background: #d5dcdf;\n",
       "      border-top: 1px solid #9c9c9c;\n",
       "      font-weight: bold;\n",
       "  }\n",
       "  .iris-word-cell {\n",
       "      text-align: left !important;\n",
       "      white-space: pre;\n",
       "  }\n",
       "  .iris-subheading-cell {\n",
       "      padding-left: 2em !important;\n",
       "  }\n",
       "  .iris-inclusion-cell {\n",
       "      padding-right: 1em !important;\n",
       "  }\n",
       "  .iris-panel-body {\n",
       "      padding-top: 0px;\n",
       "  }\n",
       "  .iris-panel-title {\n",
       "      padding-left: 3em;\n",
       "  }\n",
       "  .iris-panel-title {\n",
       "      margin-top: 7px;\n",
       "  }\n",
       "</style>\n",
       "<table class=\"iris\" id=\"140156757306616\">\n",
       "    <tr class=\"iris\">\n",
       "<th class=\"iris iris-word-cell\">Near Surface Temperature Anomaly (K)</th>\n",
       "<th class=\"iris iris-word-cell\">time</th>\n",
       "</tr>\n",
       "    <tr class=\"iris\">\n",
       "<td class=\"iris-word-cell iris-subheading-cell\">Shape</td>\n",
       "<td class=\"iris iris-inclusion-cell\">2030</td>\n",
       "</td>\n",
       "    <tr class=\"iris\">\n",
       "    <td class=\"iris-title iris-word-cell\">Dimension coordinates</td>\n",
       "    <td class=\"iris-title\"></td>\n",
       "</tr>\n",
       "<tr class=\"iris\">\n",
       "    <td class=\"iris-word-cell iris-subheading-cell\">\ttime</td>\n",
       "    <td class=\"iris-inclusion-cell\">x</td>\n",
       "</tr>\n",
       "<tr class=\"iris\">\n",
       "    <td class=\"iris-title iris-word-cell\">Scalar coordinates</td>\n",
       "    <td class=\"iris-title\"></td>\n",
       "</tr>\n",
       "<tr class=\"iris\">\n",
       "    <td class=\"iris-word-cell iris-subheading-cell\">\tlatitude</td>\n",
       "    <td class=\"iris-word-cell\" colspan=\"1\">0.0 degrees, bound=(-90.0, 90.0) degrees</td>\n",
       "</tr>\n",
       "<tr class=\"iris\">\n",
       "    <td class=\"iris-word-cell iris-subheading-cell\">\tlongitude</td>\n",
       "    <td class=\"iris-word-cell\" colspan=\"1\">0.0 degrees, bound=(-180.0, 180.0) degrees</td>\n",
       "</tr>\n",
       "<tr class=\"iris\">\n",
       "    <td class=\"iris-title iris-word-cell\">Attributes</td>\n",
       "    <td class=\"iris-title\"></td>\n",
       "</tr>\n",
       "<tr class=\"iris\">\n",
       "    <td class=\"iris-word-cell iris-subheading-cell\">\tConventions</td>\n",
       "    <td class=\"iris-word-cell\" colspan=\"1\">CF-1.0</td>\n",
       "</tr>\n",
       "<tr class=\"iris\">\n",
       "    <td class=\"iris-word-cell iris-subheading-cell\">\tcomment</td>\n",
       "    <td class=\"iris-word-cell\" colspan=\"1\"></td>\n",
       "</tr>\n",
       "<tr class=\"iris\">\n",
       "    <td class=\"iris-word-cell iris-subheading-cell\">\tensemble_member_index</td>\n",
       "    <td class=\"iris-word-cell\" colspan=\"1\">0</td>\n",
       "</tr>\n",
       "<tr class=\"iris\">\n",
       "    <td class=\"iris-word-cell iris-subheading-cell\">\tensemble_members</td>\n",
       "    <td class=\"iris-word-cell\" colspan=\"1\">100</td>\n",
       "</tr>\n",
       "<tr class=\"iris\">\n",
       "    <td class=\"iris-word-cell iris-subheading-cell\">\thistory</td>\n",
       "    <td class=\"iris-word-cell\" colspan=\"1\">Updated at 25/03/2019 16:03:56</td>\n",
       "</tr>\n",
       "<tr class=\"iris\">\n",
       "    <td class=\"iris-word-cell iris-subheading-cell\">\tinstitution</td>\n",
       "    <td class=\"iris-word-cell\" colspan=\"1\">Met Office Hadley Centre / Climatic Research Unit, University of East ...</td>\n",
       "</tr>\n",
       "<tr class=\"iris\">\n",
       "    <td class=\"iris-word-cell iris-subheading-cell\">\treference</td>\n",
       "    <td class=\"iris-word-cell\" colspan=\"1\">Morice, C. P., J. J. Kennedy, N. A. Rayner, and P. D. Jones (2012), Quantifying...</td>\n",
       "</tr>\n",
       "<tr class=\"iris\">\n",
       "    <td class=\"iris-word-cell iris-subheading-cell\">\treference_period</td>\n",
       "    <td class=\"iris-word-cell\" colspan=\"1\">[1961 1990]</td>\n",
       "</tr>\n",
       "<tr class=\"iris\">\n",
       "    <td class=\"iris-word-cell iris-subheading-cell\">\tsource</td>\n",
       "    <td class=\"iris-word-cell\" colspan=\"1\">CRUTEM.4.6.0.0, HadSST.3.1.1.0</td>\n",
       "</tr>\n",
       "<tr class=\"iris\">\n",
       "    <td class=\"iris-word-cell iris-subheading-cell\">\ttitle</td>\n",
       "    <td class=\"iris-word-cell\" colspan=\"1\">HadCRUT4 near-surface temperature ensemble data - ensemble median</td>\n",
       "</tr>\n",
       "<tr class=\"iris\">\n",
       "    <td class=\"iris-word-cell iris-subheading-cell\">\tversion</td>\n",
       "    <td class=\"iris-word-cell\" colspan=\"1\">HadCRUT.4.6.0.0</td>\n",
       "</tr>\n",
       "<tr class=\"iris\">\n",
       "    <td class=\"iris-title iris-word-cell\">Cell methods</td>\n",
       "    <td class=\"iris-title\"></td>\n",
       "</tr>\n",
       "<tr class=\"iris\">\n",
       "    <td class=\"iris-word-cell iris-subheading-cell\">\tmean</td>\n",
       "    <td class=\"iris-word-cell\" colspan=\"1\">latitude, longitude</td>\n",
       "</tr>\n",
       "</table>\n",
       "        "
      ],
      "text/plain": [
       "<iris 'Cube' of near_surface_temperature_anomaly / (K) (time: 2030)>"
      ]
     },
     "execution_count": 23,
     "metadata": {},
     "output_type": "execute_result"
    }
   ],
   "source": [
    "means[0]"
   ]
  },
  {
   "cell_type": "markdown",
   "metadata": {},
   "source": [
    "## Plotting the global means\n",
    "\n",
    "Let's plot the three, now one-dimensional, datasets. Matplotlib is the default plotting package, with an easy to use interface through its module Pyplot. Iris provides its own plotting plotting module, which is essentially a wrapper around Matplotlib/Pyplot, that can handle Iris cubes directly.\n",
    "\n",
    "With notebooks, we can use the so-called 'magic\" command `%matplotlib inline` to let Jupyter render the figure directly in-place: no need to save it to a file or anything, it will just appears directly below the cell once executed. That's great for interactive exploration.\n",
    "\n",
    "We just loop through the three averaged datasets and plot them on top of each other."
   ]
  },
  {
   "cell_type": "code",
   "execution_count": 24,
   "metadata": {},
   "outputs": [
    {
     "data": {
      "image/png": "[encoded data removed]",
      "text/plain": [
       "<Figure size 432x288 with 1 Axes>"
      ]
     },
     "metadata": {
      "needs_background": "light"
     },
     "output_type": "display_data"
    }
   ],
   "source": [
    "import iris.plot as iplt\n",
    "import matplotlib.pyplot as plt\n",
    "%matplotlib inline\n",
    "\n",
    "for mean in means:\n",
    "    iplt.plot(mean)"
   ]
  },
  {
   "cell_type": "markdown",
   "metadata": {},
   "source": [
    "## Calculating a zeropoint for the datasets\n",
    "\n",
    "The monthly resolution is a bit too much, certainly over the relevant timespan. We'll fix that later, but we'll first account for the fact that the three datasets may not have the same zeropoint. Here, we'll use the 1961 to 1990 date range to calculate an average zeropoint for each dataset individually.\n",
    "\n",
    "We can use plain Python `datetime.datetime` objects to start with: Iris will handle this properly behind the scenes, since it knows the unit of the various time coordinates. We use an `iris.Constraint`, which can take a function that will be applied to any point of the relevant coordinate to filter it.  \n",
    "`lambda` is Python's way to create a quick, anonymous function. For those not familiar with it: read it as\n",
    "\n",
    "        def anonymous_function(cell): \n",
    "            return start <= cell.point <= stop"
   ]
  },
  {
   "cell_type": "code",
   "execution_count": 25,
   "metadata": {},
   "outputs": [],
   "source": [
    "from datetime import datetime\n",
    "start = datetime(1961, 1, 1)\n",
    "stop = datetime(1990, 12, 31)\n",
    "timespan = iris.Constraint(time=lambda cell: start <= cell.point <= stop)"
   ]
  },
  {
   "cell_type": "markdown",
   "metadata": {},
   "source": [
    "Now loop over the means, extracting the relevant timespan, and then averaging that timespan (collapsing with a mean). Since `mean.extract` returns another cube, we can chain the two operations."
   ]
  },
  {
   "cell_type": "code",
   "execution_count": 26,
   "metadata": {},
   "outputs": [
    {
     "name": "stderr",
     "output_type": "stream",
     "text": [
      "/opt/conda/lib/python3.6/site-packages/iris/coords.py:1355: UserWarning: Collapsing a non-contiguous coordinate. Metadata may not be fully descriptive for 'time'.\n",
      "  warnings.warn(msg.format(self.name()))\n"
     ]
    },
    {
     "data": {
      "text/plain": [
       "[<iris 'Cube' of near_surface_temperature_anomaly / (K) (scalar cube)>,\n",
       " <iris 'Cube' of air_temperature_anomaly / (degC) (scalar cube)>,\n",
       " <iris 'Cube' of air_temperature_anomaly / (degC) (scalar cube)>]"
      ]
     },
     "execution_count": 26,
     "metadata": {},
     "output_type": "execute_result"
    }
   ],
   "source": [
    "zeropoints = []\n",
    "for mean in means:\n",
    "    zeropoint = mean.extract(timespan).collapsed('time', iris.analysis.MEAN)\n",
    "    zeropoints.append(zeropoint)\n",
    "zeropoints"
   ]
  },
  {
   "cell_type": "markdown",
   "metadata": {},
   "source": [
    "There'll be a warning that that the averaging happened over a non-contiguous coordinate. Presumably, there is the occasional gaps in the time coordinate, and the time bounds don't fully cover the timespan. For ease, we assume that, overall, Iris did the right thing, and our zeropoint is correct.\n",
    "\n",
    "Even the zeropoints, while scalars, are Iris cubes that include units and the full metadata:"
   ]
  },
  {
   "cell_type": "code",
   "execution_count": 27,
   "metadata": {},
   "outputs": [
    {
     "data": {
      "text/html": [
       "\n",
       "<style>\n",
       "  a.iris {\n",
       "      text-decoration: none !important;\n",
       "  }\n",
       "  table.iris {\n",
       "      white-space: pre;\n",
       "      border: 1px solid;\n",
       "      border-color: #9c9c9c;\n",
       "      font-family: monaco, monospace;\n",
       "  }\n",
       "  th.iris {\n",
       "      background: #303f3f;\n",
       "      color: #e0e0e0;\n",
       "      border-left: 1px solid;\n",
       "      border-color: #9c9c9c;\n",
       "      font-size: 1.05em;\n",
       "      min-width: 50px;\n",
       "      max-width: 125px;\n",
       "  }\n",
       "  tr.iris :first-child {\n",
       "      border-right: 1px solid #9c9c9c !important;\n",
       "  }\n",
       "  td.iris-title {\n",
       "      background: #d5dcdf;\n",
       "      border-top: 1px solid #9c9c9c;\n",
       "      font-weight: bold;\n",
       "  }\n",
       "  .iris-word-cell {\n",
       "      text-align: left !important;\n",
       "      white-space: pre;\n",
       "  }\n",
       "  .iris-subheading-cell {\n",
       "      padding-left: 2em !important;\n",
       "  }\n",
       "  .iris-inclusion-cell {\n",
       "      padding-right: 1em !important;\n",
       "  }\n",
       "  .iris-panel-body {\n",
       "      padding-top: 0px;\n",
       "  }\n",
       "  .iris-panel-title {\n",
       "      padding-left: 3em;\n",
       "  }\n",
       "  .iris-panel-title {\n",
       "      margin-top: 7px;\n",
       "  }\n",
       "</style>\n",
       "<table class=\"iris\" id=\"140156326079624\">\n",
       "    <tr class=\"iris\">\n",
       "<th class=\"iris iris-word-cell\">Near Surface Temperature Anomaly (K)</th>\n",
       "<th class=\"iris iris-word-cell\">(scalar cube)</th>\n",
       "</tr>\n",
       "    \n",
       "    <tr class=\"iris\">\n",
       "    <td class=\"iris-title iris-word-cell\">Scalar coordinates</td>\n",
       "    <td class=\"iris-title\"></td>\n",
       "</tr>\n",
       "<tr class=\"iris\">\n",
       "    <td class=\"iris-word-cell iris-subheading-cell\">\tlatitude</td>\n",
       "    <td class=\"iris-word-cell\" colspan=\"1\">0.0 degrees, bound=(-90.0, 90.0) degrees</td>\n",
       "</tr>\n",
       "<tr class=\"iris\">\n",
       "    <td class=\"iris-word-cell iris-subheading-cell\">\tlongitude</td>\n",
       "    <td class=\"iris-word-cell\" colspan=\"1\">0.0 degrees, bound=(-180.0, 180.0) degrees</td>\n",
       "</tr>\n",
       "<tr class=\"iris\">\n",
       "    <td class=\"iris-word-cell iris-subheading-cell\">\ttime</td>\n",
       "    <td class=\"iris-word-cell\" colspan=\"1\">1976-01-01 12:00:00, bound=(1961-01-01 00:00:00, 1991-01-01 00:00:00)</td>\n",
       "</tr>\n",
       "<tr class=\"iris\">\n",
       "    <td class=\"iris-title iris-word-cell\">Attributes</td>\n",
       "    <td class=\"iris-title\"></td>\n",
       "</tr>\n",
       "<tr class=\"iris\">\n",
       "    <td class=\"iris-word-cell iris-subheading-cell\">\tConventions</td>\n",
       "    <td class=\"iris-word-cell\" colspan=\"1\">CF-1.0</td>\n",
       "</tr>\n",
       "<tr class=\"iris\">\n",
       "    <td class=\"iris-word-cell iris-subheading-cell\">\tcomment</td>\n",
       "    <td class=\"iris-word-cell\" colspan=\"1\"></td>\n",
       "</tr>\n",
       "<tr class=\"iris\">\n",
       "    <td class=\"iris-word-cell iris-subheading-cell\">\tensemble_member_index</td>\n",
       "    <td class=\"iris-word-cell\" colspan=\"1\">0</td>\n",
       "</tr>\n",
       "<tr class=\"iris\">\n",
       "    <td class=\"iris-word-cell iris-subheading-cell\">\tensemble_members</td>\n",
       "    <td class=\"iris-word-cell\" colspan=\"1\">100</td>\n",
       "</tr>\n",
       "<tr class=\"iris\">\n",
       "    <td class=\"iris-word-cell iris-subheading-cell\">\thistory</td>\n",
       "    <td class=\"iris-word-cell\" colspan=\"1\">Updated at 25/03/2019 16:03:56</td>\n",
       "</tr>\n",
       "<tr class=\"iris\">\n",
       "    <td class=\"iris-word-cell iris-subheading-cell\">\tinstitution</td>\n",
       "    <td class=\"iris-word-cell\" colspan=\"1\">Met Office Hadley Centre / Climatic Research Unit, University of East ...</td>\n",
       "</tr>\n",
       "<tr class=\"iris\">\n",
       "    <td class=\"iris-word-cell iris-subheading-cell\">\treference</td>\n",
       "    <td class=\"iris-word-cell\" colspan=\"1\">Morice, C. P., J. J. Kennedy, N. A. Rayner, and P. D. Jones (2012), Quantifying...</td>\n",
       "</tr>\n",
       "<tr class=\"iris\">\n",
       "    <td class=\"iris-word-cell iris-subheading-cell\">\treference_period</td>\n",
       "    <td class=\"iris-word-cell\" colspan=\"1\">[1961 1990]</td>\n",
       "</tr>\n",
       "<tr class=\"iris\">\n",
       "    <td class=\"iris-word-cell iris-subheading-cell\">\tsource</td>\n",
       "    <td class=\"iris-word-cell\" colspan=\"1\">CRUTEM.4.6.0.0, HadSST.3.1.1.0</td>\n",
       "</tr>\n",
       "<tr class=\"iris\">\n",
       "    <td class=\"iris-word-cell iris-subheading-cell\">\ttitle</td>\n",
       "    <td class=\"iris-word-cell\" colspan=\"1\">HadCRUT4 near-surface temperature ensemble data - ensemble median</td>\n",
       "</tr>\n",
       "<tr class=\"iris\">\n",
       "    <td class=\"iris-word-cell iris-subheading-cell\">\tversion</td>\n",
       "    <td class=\"iris-word-cell\" colspan=\"1\">HadCRUT.4.6.0.0</td>\n",
       "</tr>\n",
       "<tr class=\"iris\">\n",
       "    <td class=\"iris-title iris-word-cell\">Cell methods</td>\n",
       "    <td class=\"iris-title\"></td>\n",
       "</tr>\n",
       "<tr class=\"iris\">\n",
       "    <td class=\"iris-word-cell iris-subheading-cell\">\tmean</td>\n",
       "    <td class=\"iris-word-cell\" colspan=\"1\">latitude, longitude</td>\n",
       "</tr>\n",
       "<tr class=\"iris\">\n",
       "    <td class=\"iris-word-cell iris-subheading-cell\">\tmean</td>\n",
       "    <td class=\"iris-word-cell\" colspan=\"1\">time</td>\n",
       "</tr>\n",
       "</table>\n",
       "        "
      ],
      "text/plain": [
       "<iris 'Cube' of near_surface_temperature_anomaly / (K) (scalar cube)>"
      ]
     },
     "execution_count": 27,
     "metadata": {},
     "output_type": "execute_result"
    }
   ],
   "source": [
    "zeropoints[0]"
   ]
  },
  {
   "cell_type": "markdown",
   "metadata": {},
   "source": [
    "Instead of retrieving the actual data values, we can simply subtract one cube from the other: Iris handles this under the hood. Thus, for each dataset separately, we subtract the zeropoint."
   ]
  },
  {
   "cell_type": "code",
   "execution_count": 28,
   "metadata": {},
   "outputs": [],
   "source": [
    "zpmeans = []\n",
    "for mean, zeropoint in zip(means, zeropoints):\n",
    "    zpmeans.append(mean - zeropoint)"
   ]
  },
  {
   "cell_type": "markdown",
   "metadata": {},
   "source": [
    "Subtracting a zeropoint has made a difference in the resulting plot"
   ]
  },
  {
   "cell_type": "code",
   "execution_count": 29,
   "metadata": {},
   "outputs": [
    {
     "data": {
      "image/png": "[encoded data removed]",
      "text/plain": [
       "<Figure size 432x288 with 1 Axes>"
      ]
     },
     "metadata": {
      "needs_background": "light"
     },
     "output_type": "display_data"
    }
   ],
   "source": [
    "for zpmean in zpmeans:\n",
    "    iplt.plot(zpmean)"
   ]
  },
  {
   "cell_type": "markdown",
   "metadata": {},
   "source": [
    "## Calculating a rolling average\n",
    "\n",
    "Let's smooth the data with a rolling average. For Iris, there is the `rolling_window` method of a cube that can be used. It takes an analyses method (again, here, the mean), and a size of the mean (I've picked 12 here, which is 12 months).\n",
    "\n",
    "(Don't be deceived by the use of a list comprehension here: it is the same loop as before, written differently and shorter this time)"
   ]
  },
  {
   "cell_type": "code",
   "execution_count": 30,
   "metadata": {},
   "outputs": [
    {
     "name": "stderr",
     "output_type": "stream",
     "text": [
      "/opt/conda/lib/python3.6/site-packages/iris/cube.py:3584: UserWarning: The bounds of coordinate 'time' were ignored in the rolling window operation.\n",
      "  'the rolling window operation.' % coord_.name())\n"
     ]
    }
   ],
   "source": [
    "smootheds = [cube.rolling_window('time', iris.analysis.MEAN, 12) for cube in zpmeans]"
   ]
  },
  {
   "cell_type": "code",
   "execution_count": 31,
   "metadata": {},
   "outputs": [
    {
     "data": {
      "image/png": "[encoded data removed]",
      "text/plain": [
       "<Figure size 432x288 with 1 Axes>"
      ]
     },
     "metadata": {
      "needs_background": "light"
     },
     "output_type": "display_data"
    }
   ],
   "source": [
    "for smoothed in smootheds:\n",
    "    iplt.plot(smoothed)"
   ]
  },
  {
   "cell_type": "markdown",
   "metadata": {},
   "source": [
    "## Calculating seasonal and yearly averages\n",
    "\n",
    "We can also calculate the seasonal and yearly averages. For this, we use the `aggregated_by` method on cubes, but we need to add two auxiliary coordinates to the datasets first: the season-year and year coordinates. We can use the `add_season` and `add_season_year` utility functions from the `iris.coord_categorisation` module (note: this module has to be loaded explicitly, unlike other modules, which are loaded automatically with `import iris`)."
   ]
  },
  {
   "cell_type": "code",
   "execution_count": 32,
   "metadata": {},
   "outputs": [
    {
     "data": {
      "text/html": [
       "\n",
       "<style>\n",
       "  a.iris {\n",
       "      text-decoration: none !important;\n",
       "  }\n",
       "  table.iris {\n",
       "      white-space: pre;\n",
       "      border: 1px solid;\n",
       "      border-color: #9c9c9c;\n",
       "      font-family: monaco, monospace;\n",
       "  }\n",
       "  th.iris {\n",
       "      background: #303f3f;\n",
       "      color: #e0e0e0;\n",
       "      border-left: 1px solid;\n",
       "      border-color: #9c9c9c;\n",
       "      font-size: 1.05em;\n",
       "      min-width: 50px;\n",
       "      max-width: 125px;\n",
       "  }\n",
       "  tr.iris :first-child {\n",
       "      border-right: 1px solid #9c9c9c !important;\n",
       "  }\n",
       "  td.iris-title {\n",
       "      background: #d5dcdf;\n",
       "      border-top: 1px solid #9c9c9c;\n",
       "      font-weight: bold;\n",
       "  }\n",
       "  .iris-word-cell {\n",
       "      text-align: left !important;\n",
       "      white-space: pre;\n",
       "  }\n",
       "  .iris-subheading-cell {\n",
       "      padding-left: 2em !important;\n",
       "  }\n",
       "  .iris-inclusion-cell {\n",
       "      padding-right: 1em !important;\n",
       "  }\n",
       "  .iris-panel-body {\n",
       "      padding-top: 0px;\n",
       "  }\n",
       "  .iris-panel-title {\n",
       "      padding-left: 3em;\n",
       "  }\n",
       "  .iris-panel-title {\n",
       "      margin-top: 7px;\n",
       "  }\n",
       "</style>\n",
       "<table class=\"iris\" id=\"140156326076992\">\n",
       "    <tr class=\"iris\">\n",
       "<th class=\"iris iris-word-cell\">Unknown (K)</th>\n",
       "<th class=\"iris iris-word-cell\">time</th>\n",
       "</tr>\n",
       "    <tr class=\"iris\">\n",
       "<td class=\"iris-word-cell iris-subheading-cell\">Shape</td>\n",
       "<td class=\"iris iris-inclusion-cell\">2030</td>\n",
       "</td>\n",
       "    <tr class=\"iris\">\n",
       "    <td class=\"iris-title iris-word-cell\">Dimension coordinates</td>\n",
       "    <td class=\"iris-title\"></td>\n",
       "</tr>\n",
       "<tr class=\"iris\">\n",
       "    <td class=\"iris-word-cell iris-subheading-cell\">\ttime</td>\n",
       "    <td class=\"iris-inclusion-cell\">x</td>\n",
       "</tr>\n",
       "<tr class=\"iris\">\n",
       "    <td class=\"iris-title iris-word-cell\">Auxiliary coordinates</td>\n",
       "    <td class=\"iris-title\"></td>\n",
       "</tr>\n",
       "<tr class=\"iris\">\n",
       "    <td class=\"iris-word-cell iris-subheading-cell\">\tclim_season</td>\n",
       "    <td class=\"iris-inclusion-cell\">x</td>\n",
       "</tr>\n",
       "<tr class=\"iris\">\n",
       "    <td class=\"iris-word-cell iris-subheading-cell\">\tseason_year</td>\n",
       "    <td class=\"iris-inclusion-cell\">x</td>\n",
       "</tr>\n",
       "<tr class=\"iris\">\n",
       "    <td class=\"iris-title iris-word-cell\">Scalar coordinates</td>\n",
       "    <td class=\"iris-title\"></td>\n",
       "</tr>\n",
       "<tr class=\"iris\">\n",
       "    <td class=\"iris-word-cell iris-subheading-cell\">\tlatitude</td>\n",
       "    <td class=\"iris-word-cell\" colspan=\"1\">0.0 degrees, bound=(-90.0, 90.0) degrees</td>\n",
       "</tr>\n",
       "<tr class=\"iris\">\n",
       "    <td class=\"iris-word-cell iris-subheading-cell\">\tlongitude</td>\n",
       "    <td class=\"iris-word-cell\" colspan=\"1\">0.0 degrees, bound=(-180.0, 180.0) degrees</td>\n",
       "</tr>\n",
       "</table>\n",
       "        "
      ],
      "text/plain": [
       "<iris 'Cube' of unknown / (K) (time: 2030)>"
      ]
     },
     "execution_count": 32,
     "metadata": {},
     "output_type": "execute_result"
    }
   ],
   "source": [
    "import iris.coord_categorisation\n",
    "for cube in zpmeans:\n",
    "    iris.coord_categorisation.add_season(cube, 'time', name='clim_season')\n",
    "    iris.coord_categorisation.add_season_year(cube, 'time', name='season_year')\n",
    "zpmeans[0]"
   ]
  },
  {
   "cell_type": "markdown",
   "metadata": {},
   "source": [
    "Calculate and plot the seasonal averages for each year."
   ]
  },
  {
   "cell_type": "code",
   "execution_count": 33,
   "metadata": {},
   "outputs": [
    {
     "data": {
      "image/png": "[encoded data removed]",
      "text/plain": [
       "<Figure size 432x288 with 1 Axes>"
      ]
     },
     "metadata": {
      "needs_background": "light"
     },
     "output_type": "display_data"
    }
   ],
   "source": [
    "for cube in zpmeans:\n",
    "    annual_seasonal_mean = cube.aggregated_by(['clim_season', 'season_year'], iris.analysis.MEAN)\n",
    "    iplt.plot(annual_seasonal_mean)"
   ]
  },
  {
   "cell_type": "markdown",
   "metadata": {},
   "source": [
    "That is actually only marginally better; let's try just the average temperature per year"
   ]
  },
  {
   "cell_type": "code",
   "execution_count": 34,
   "metadata": {},
   "outputs": [
    {
     "data": {
      "image/png": "[encoded data removed]",
      "text/plain": [
       "<Figure size 432x288 with 1 Axes>"
      ]
     },
     "metadata": {
      "needs_background": "light"
     },
     "output_type": "display_data"
    }
   ],
   "source": [
    "for cube in zpmeans:\n",
    "    annual_seasonal_mean = cube.aggregated_by('season_year', iris.analysis.MEAN)  # ['season_year'] also works as argument\n",
    "    iplt.plot(annual_seasonal_mean)"
   ]
  },
  {
   "cell_type": "code",
   "execution_count": null,
   "metadata": {},
   "outputs": [],
   "source": []
  }
 ],
 "metadata": {
  "kernelspec": {
   "display_name": "Python 3",
   "language": "python",
   "name": "python3"
  },
  "language_info": {
   "codemirror_mode": {
    "name": "ipython",
    "version": 3
   },
   "file_extension": ".py",
   "mimetype": "text/x-python",
   "name": "python",
   "nbconvert_exporter": "python",
   "pygments_lexer": "ipython3",
   "version": "3.7.3"
  }
 },
 "nbformat": 4,
 "nbformat_minor": 2
}
