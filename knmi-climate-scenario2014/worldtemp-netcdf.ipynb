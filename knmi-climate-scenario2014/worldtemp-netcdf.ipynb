{
 "cells": [
  {
   "cell_type": "code",
   "execution_count": 28,
   "metadata": {},
   "outputs": [
    {
     "data": {
      "text/plain": [
       "<class 'netCDF4._netCDF4.Dataset'>\n",
       "root group (NETCDF4 data model, file format HDF5):\n",
       "    title: HadCRUT4 near-surface temperature ensemble data - ensemble median\n",
       "    institution: Met Office Hadley Centre / Climatic Research Unit, University of East Anglia\n",
       "    history: Updated at 25/03/2019 16:03:56\n",
       "    source: CRUTEM.4.6.0.0, HadSST.3.1.1.0\n",
       "    comment: \n",
       "    reference: Morice, C. P., J. J. Kennedy, N. A. Rayner, and P. D. Jones (2012), Quantifying uncertainties in global and regional temperature change using an ensemble of observational estimates: The HadCRUT4 dataset, J. Geophys. Res., doi:10.1029/2011JD017187\n",
       "    version: HadCRUT.4.6.0.0\n",
       "    Conventions: CF-1.0\n",
       "    ensemble_members: 100\n",
       "    ensemble_member_index: 0\n",
       "    dimensions(sizes): latitude(36), longitude(72), field_status_string_length(1), time(2030)\n",
       "    variables(dimensions): float32 \u001b[4mlatitude\u001b[0m(latitude), float32 \u001b[4mlongitude\u001b[0m(longitude), float32 \u001b[4mtime\u001b[0m(time), float32 \u001b[4mtemperature_anomaly\u001b[0m(time,latitude,longitude), |S1 \u001b[4mfield_status\u001b[0m(time,field_status_string_length)\n",
       "    groups: "
      ]
     },
     "execution_count": 28,
     "metadata": {},
     "output_type": "execute_result"
    }
   ],
   "source": [
    "from urllib.request import urlopen\n",
    "import netCDF4 as nc\n",
    "    \n",
    "url = 'https://crudata.uea.ac.uk/cru/data/temperature/HadCRUT.4.6.0.0.median.nc'\n",
    "with urlopen(url) as stream:\n",
    "    ds = nc.Dataset('HadCRUT', memory=stream.read())\n",
    "ds"
   ]
  },
  {
   "cell_type": "code",
   "execution_count": 34,
   "metadata": {},
   "outputs": [
    {
     "data": {
      "text/plain": [
       "odict_keys(['latitude', 'longitude', 'time', 'temperature_anomaly', 'field_status'])"
      ]
     },
     "execution_count": 34,
     "metadata": {},
     "output_type": "execute_result"
    }
   ],
   "source": [
    "ds.variables.keys()"
   ]
  },
  {
   "cell_type": "code",
   "execution_count": 2,
   "metadata": {},
   "outputs": [
    {
     "data": {
      "text/plain": [
       "<class 'netCDF4._netCDF4.Variable'>\n",
       "float32 temperature_anomaly(time, latitude, longitude)\n",
       "    long_name: near_surface_temperature_anomaly\n",
       "    units: K\n",
       "    missing_value: -1e+30\n",
       "    _FillValue: -1e+30\n",
       "    reference_period: [1961 1990]\n",
       "unlimited dimensions: time\n",
       "current shape = (2030, 36, 72)\n",
       "filling on"
      ]
     },
     "execution_count": 2,
     "metadata": {},
     "output_type": "execute_result"
    }
   ],
   "source": [
    "ds['temperature_anomaly']"
   ]
  },
  {
   "cell_type": "code",
   "execution_count": 3,
   "metadata": {},
   "outputs": [
    {
     "data": {
      "text/plain": [
       "masked_array(data=[-0.9921442098392298, -0.4299474069942388,\n",
       "                   -0.8906383490209431, ..., 0.9350768180678984,\n",
       "                   0.7332507083408013, 1.0629966449122144],\n",
       "             mask=[False, False, False, ..., False, False, False],\n",
       "       fill_value=1e+20)"
      ]
     },
     "execution_count": 3,
     "metadata": {},
     "output_type": "execute_result"
    }
   ],
   "source": [
    "globaltemp = ds['temperature_anomaly'][...].mean(axis=-1).mean(axis=-1)\n",
    "globaltemp"
   ]
  },
  {
   "cell_type": "code",
   "execution_count": 4,
   "metadata": {},
   "outputs": [
    {
     "data": {
      "text/plain": [
       "<class 'netCDF4._netCDF4.Variable'>\n",
       "float32 time(time)\n",
       "    standard_name: time\n",
       "    long_name: time\n",
       "    units: days since 1850-1-1 00:00:00\n",
       "    calendar: gregorian\n",
       "    start_year: 1850\n",
       "    end_year: 2019\n",
       "    start_month: 1\n",
       "    end_month: 2\n",
       "    axis: T\n",
       "unlimited dimensions: time\n",
       "current shape = (2030,)\n",
       "filling on, default _FillValue of 9.969209968386869e+36 used"
      ]
     },
     "execution_count": 4,
     "metadata": {},
     "output_type": "execute_result"
    }
   ],
   "source": [
    "ds['time']"
   ]
  },
  {
   "cell_type": "code",
   "execution_count": 5,
   "metadata": {},
   "outputs": [
    {
     "data": {
      "text/plain": [
       "array([datetime.datetime(1850, 1, 16, 12, 0),\n",
       "       datetime.datetime(1850, 2, 15, 0, 0),\n",
       "       datetime.datetime(1850, 3, 16, 12, 0), ...,\n",
       "       datetime.datetime(2018, 12, 16, 12, 0),\n",
       "       datetime.datetime(2019, 1, 16, 12, 0),\n",
       "       datetime.datetime(2019, 2, 15, 0, 0)], dtype=object)"
      ]
     },
     "execution_count": 5,
     "metadata": {},
     "output_type": "execute_result"
    }
   ],
   "source": [
    "dates = nc.num2date(ds['time'][...], units=ds['time'].units, calendar='gregorian')\n",
    "dates"
   ]
  },
  {
   "cell_type": "code",
   "execution_count": 6,
   "metadata": {},
   "outputs": [
    {
     "data": {
      "text/html": [
       "<div>\n",
       "<style scoped>\n",
       "    .dataframe tbody tr th:only-of-type {\n",
       "        vertical-align: middle;\n",
       "    }\n",
       "\n",
       "    .dataframe tbody tr th {\n",
       "        vertical-align: top;\n",
       "    }\n",
       "\n",
       "    .dataframe thead th {\n",
       "        text-align: right;\n",
       "    }\n",
       "</style>\n",
       "<table border=\"1\" class=\"dataframe\">\n",
       "  <thead>\n",
       "    <tr style=\"text-align: right;\">\n",
       "      <th></th>\n",
       "      <th>HadCrut4</th>\n",
       "    </tr>\n",
       "    <tr>\n",
       "      <th>date</th>\n",
       "      <th></th>\n",
       "    </tr>\n",
       "  </thead>\n",
       "  <tbody>\n",
       "    <tr>\n",
       "      <th>2018-10-16 12:00:00</th>\n",
       "      <td>0.912286</td>\n",
       "    </tr>\n",
       "    <tr>\n",
       "      <th>2018-11-16 00:00:00</th>\n",
       "      <td>0.728863</td>\n",
       "    </tr>\n",
       "    <tr>\n",
       "      <th>2018-12-16 12:00:00</th>\n",
       "      <td>0.935077</td>\n",
       "    </tr>\n",
       "    <tr>\n",
       "      <th>2019-01-16 12:00:00</th>\n",
       "      <td>0.733251</td>\n",
       "    </tr>\n",
       "    <tr>\n",
       "      <th>2019-02-15 00:00:00</th>\n",
       "      <td>1.062997</td>\n",
       "    </tr>\n",
       "  </tbody>\n",
       "</table>\n",
       "</div>"
      ],
      "text/plain": [
       "                     HadCrut4\n",
       "date                         \n",
       "2018-10-16 12:00:00  0.912286\n",
       "2018-11-16 00:00:00  0.728863\n",
       "2018-12-16 12:00:00  0.935077\n",
       "2019-01-16 12:00:00  0.733251\n",
       "2019-02-15 00:00:00  1.062997"
      ]
     },
     "execution_count": 6,
     "metadata": {},
     "output_type": "execute_result"
    }
   ],
   "source": [
    "import pandas as pd\n",
    "df1 = pd.DataFrame({'date': dates, 'HadCrut4': globaltemp})\n",
    "df1.set_index('date', inplace=True)\n",
    "df1.tail()"
   ]
  },
  {
   "cell_type": "code",
   "execution_count": 7,
   "metadata": {},
   "outputs": [
    {
     "data": {
      "image/png": "[encoded data removed]",
      "text/plain": [
       "<Figure size 432x288 with 1 Axes>"
      ]
     },
     "metadata": {
      "needs_background": "light"
     },
     "output_type": "display_data"
    }
   ],
   "source": [
    "%matplotlib inline\n",
    "df1.plot();   # use ; to suppress the <matplotlib.axes._subplots.AxesSubplot at 0x...> output"
   ]
  },
  {
   "cell_type": "markdown",
   "metadata": {},
   "source": [
    "## Read the NOAAGlobalTemp (previously MLOST) dataset"
   ]
  },
  {
   "cell_type": "code",
   "execution_count": 8,
   "metadata": {},
   "outputs": [
    {
     "data": {
      "text/plain": [
       "<class 'netCDF4._netCDF4.Dataset'>\n",
       "root group (NETCDF4_CLASSIC data model, file format HDF5):\n",
       "    platform: Surface\n",
       "    Conventions: CF-1.0\n",
       "    title: NOAA Global Temperature\n",
       "    Source: ftp://ftp.ncdc.noaa.gov/pub/data/noaaglobaltemp/operational/\n",
       "    source: ftp://ftp.ncdc.noaa.gov/pub/data/noaaglobaltemp/operational/\n",
       "    history: Created 12/16 using new V4.00 data from changed operational directory\n",
       "    dataset_title: NOAA Global Surface Temperature (NOAAGlobalTemp)\n",
       "    version: V4.01\n",
       "    References: https://www.esrl.noaa.gov/psd/data/gridded/data.noaaglobaltemp.html\n",
       "    date_modified: 06 Mar 2019\n",
       "    data_modified: 2019-05-08\n",
       "    dimensions(sizes): time(1671), lat(36), lon(72), nbnds(2)\n",
       "    variables(dimensions): float32 \u001b[4mlat\u001b[0m(lat), float32 \u001b[4mlon\u001b[0m(lon), float64 \u001b[4mtime\u001b[0m(time), float64 \u001b[4mtime_bnds\u001b[0m(time,nbnds), float32 \u001b[4mair\u001b[0m(time,lat,lon)\n",
       "    groups: "
      ]
     },
     "execution_count": 8,
     "metadata": {},
     "output_type": "execute_result"
    }
   ],
   "source": [
    "url = 'ftp://ftp.cdc.noaa.gov/Datasets/noaaglobaltemp/air.mon.anom.nc'\n",
    "with urlopen(url) as stream:\n",
    "    ds = nc.Dataset('NOAAGlobalTemp', memory=stream.read())\n",
    "ds"
   ]
  },
  {
   "cell_type": "markdown",
   "metadata": {},
   "source": [
    "As before, we inspect the individual variables we're interested in as well."
   ]
  },
  {
   "cell_type": "code",
   "execution_count": 9,
   "metadata": {},
   "outputs": [
    {
     "data": {
      "text/plain": [
       "<class 'netCDF4._netCDF4.Variable'>\n",
       "float64 time(time)\n",
       "    units: days since 1800-1-1 00:00:0.0\n",
       "    long_name: Time\n",
       "    delta_t: 0000-01-00 00:00:00\n",
       "    avg_period: 0000-01-00 00:00:00\n",
       "    standard_name: time\n",
       "    axis: T\n",
       "    coordinate_defines: start\n",
       "    bounds: time_bnds\n",
       "    actual_range: [29219. 80047.]\n",
       "unlimited dimensions: time\n",
       "current shape = (1671,)\n",
       "filling on, default _FillValue of 9.969209968386869e+36 used"
      ]
     },
     "execution_count": 9,
     "metadata": {},
     "output_type": "execute_result"
    }
   ],
   "source": [
    "ds['time']"
   ]
  },
  {
   "cell_type": "code",
   "execution_count": 10,
   "metadata": {},
   "outputs": [
    {
     "data": {
      "text/html": [
       "<div>\n",
       "<style scoped>\n",
       "    .dataframe tbody tr th:only-of-type {\n",
       "        vertical-align: middle;\n",
       "    }\n",
       "\n",
       "    .dataframe tbody tr th {\n",
       "        vertical-align: top;\n",
       "    }\n",
       "\n",
       "    .dataframe thead th {\n",
       "        text-align: right;\n",
       "    }\n",
       "</style>\n",
       "<table border=\"1\" class=\"dataframe\">\n",
       "  <thead>\n",
       "    <tr style=\"text-align: right;\">\n",
       "      <th></th>\n",
       "      <th>NOAAGlobalTemp</th>\n",
       "    </tr>\n",
       "    <tr>\n",
       "      <th>date</th>\n",
       "      <th></th>\n",
       "    </tr>\n",
       "  </thead>\n",
       "  <tbody>\n",
       "    <tr>\n",
       "      <th>1880-01-01</th>\n",
       "      <td>-0.254079</td>\n",
       "    </tr>\n",
       "    <tr>\n",
       "      <th>1880-02-01</th>\n",
       "      <td>-0.395865</td>\n",
       "    </tr>\n",
       "    <tr>\n",
       "      <th>1880-03-01</th>\n",
       "      <td>-0.474940</td>\n",
       "    </tr>\n",
       "    <tr>\n",
       "      <th>1880-04-01</th>\n",
       "      <td>-0.339964</td>\n",
       "    </tr>\n",
       "    <tr>\n",
       "      <th>1880-05-01</th>\n",
       "      <td>-0.304502</td>\n",
       "    </tr>\n",
       "  </tbody>\n",
       "</table>\n",
       "</div>"
      ],
      "text/plain": [
       "            NOAAGlobalTemp\n",
       "date                      \n",
       "1880-01-01       -0.254079\n",
       "1880-02-01       -0.395865\n",
       "1880-03-01       -0.474940\n",
       "1880-04-01       -0.339964\n",
       "1880-05-01       -0.304502"
      ]
     },
     "execution_count": 10,
     "metadata": {},
     "output_type": "execute_result"
    }
   ],
   "source": [
    "globaltemp = ds['air'][...].mean(axis=-1).mean(axis=-1)\n",
    "df2 = pd.DataFrame({'date': nc.num2date(ds['time'][...], units='days since 1800-1-1 00:00:0.0'),\n",
    "                    'NOAAGlobalTemp': globaltemp})\n",
    "df2.set_index('date', inplace=True)\n",
    "df2.head()"
   ]
  },
  {
   "cell_type": "markdown",
   "metadata": {},
   "source": [
    "## Read the GISS dataset"
   ]
  },
  {
   "cell_type": "code",
   "execution_count": 11,
   "metadata": {},
   "outputs": [
    {
     "data": {
      "text/plain": [
       "<class 'netCDF4._netCDF4.Dataset'>\n",
       "root group (NETCDF4_CLASSIC data model, file format HDF5):\n",
       "    title: GISS Surface Temperature Analysis (GISTEMP): 250km smoothing lan only\n",
       "    comments: GISS Surface Temperature Analysis (GISTEMP): 250km smoothing land only\n",
       "    platform: Analysis\n",
       "    Source: http://data.giss.nasa.gov/gistemp/ source and http://data.giss.nasa.gov/pub/gistemp/ data\n",
       "    Documentation: http://www.esrl.noaa.gov/psd/data/gridded/data.gistemp.html\n",
       "    references: http://www.esrl.noaa.gov/psd/data/gridded/data.gistemp.html\n",
       "    Conventions: COARDS\n",
       "    history: created at PSD Jun 2009 by CAS. Converted to chunked, deflated non-packed NetCDF4 2014/06\n",
       "    dataset_title: GISS Surface Temperature Analysis\n",
       "    data_modified: 2019-05-08\n",
       "    dimensions(sizes): lon(180), lat(90), time(1671), nbnds(2)\n",
       "    variables(dimensions): float32 \u001b[4mlat\u001b[0m(lat), float32 \u001b[4mlon\u001b[0m(lon), float64 \u001b[4mtime\u001b[0m(time), float32 \u001b[4mair\u001b[0m(time,lat,lon)\n",
       "    groups: "
      ]
     },
     "execution_count": 11,
     "metadata": {},
     "output_type": "execute_result"
    }
   ],
   "source": [
    "url = 'ftp://ftp.cdc.noaa.gov/Datasets/gistemp/landonly/250km/air.2x2.250.mon.anom.land.nc'\n",
    "with urlopen(url) as stream:\n",
    "    ds = nc.Dataset('GISS', memory=stream.read())\n",
    "ds"
   ]
  },
  {
   "cell_type": "markdown",
   "metadata": {},
   "source": [
    "Conveniently, this dataset follows the same format as the NOAAGlobalTemp dataset, so we rely on our findings from that one (including things like the date zero point)."
   ]
  },
  {
   "cell_type": "code",
   "execution_count": 12,
   "metadata": {},
   "outputs": [
    {
     "data": {
      "text/html": [
       "<div>\n",
       "<style scoped>\n",
       "    .dataframe tbody tr th:only-of-type {\n",
       "        vertical-align: middle;\n",
       "    }\n",
       "\n",
       "    .dataframe tbody tr th {\n",
       "        vertical-align: top;\n",
       "    }\n",
       "\n",
       "    .dataframe thead th {\n",
       "        text-align: right;\n",
       "    }\n",
       "</style>\n",
       "<table border=\"1\" class=\"dataframe\">\n",
       "  <thead>\n",
       "    <tr style=\"text-align: right;\">\n",
       "      <th></th>\n",
       "      <th>GISS</th>\n",
       "    </tr>\n",
       "    <tr>\n",
       "      <th>date</th>\n",
       "      <th></th>\n",
       "    </tr>\n",
       "  </thead>\n",
       "  <tbody>\n",
       "    <tr>\n",
       "      <th>1880-01-01</th>\n",
       "      <td>-0.128901</td>\n",
       "    </tr>\n",
       "    <tr>\n",
       "      <th>1880-02-01</th>\n",
       "      <td>-0.710524</td>\n",
       "    </tr>\n",
       "    <tr>\n",
       "      <th>1880-03-01</th>\n",
       "      <td>-0.381598</td>\n",
       "    </tr>\n",
       "    <tr>\n",
       "      <th>1880-04-01</th>\n",
       "      <td>-0.198299</td>\n",
       "    </tr>\n",
       "    <tr>\n",
       "      <th>1880-05-01</th>\n",
       "      <td>-0.232266</td>\n",
       "    </tr>\n",
       "  </tbody>\n",
       "</table>\n",
       "</div>"
      ],
      "text/plain": [
       "                GISS\n",
       "date                \n",
       "1880-01-01 -0.128901\n",
       "1880-02-01 -0.710524\n",
       "1880-03-01 -0.381598\n",
       "1880-04-01 -0.198299\n",
       "1880-05-01 -0.232266"
      ]
     },
     "execution_count": 12,
     "metadata": {},
     "output_type": "execute_result"
    }
   ],
   "source": [
    "globaltemp = ds['air'][...].mean(axis=-1).mean(axis=-1)\n",
    "df3 = pd.DataFrame({'date': nc.num2date(ds['time'][...], units='days since 1800-1-1 00:00:0.0'),\n",
    "                    'GISS': globaltemp})\n",
    "df3.set_index('date', inplace=True)\n",
    "df3.head()"
   ]
  },
  {
   "cell_type": "markdown",
   "metadata": {},
   "source": [
    "We'd like to put all the three datasets into the same dataframe, with the same date points. Unfortunately, the dates for the first and latter two datasets aren't at the same points (mid-month versus start of the month), so we'll need to bring the dates to the same point. This assumes of course, that there is no real difference in the actual day of the month, and only the month and year itself are the important datestamps.\n",
    "\n",
    "We perform some operations with Pandas datetime functionality to bring all dates to the first of the month: we subtract ten days for the first dataframe to get the day closer to the start of the month, snap to nearest month start, then floor (round to lowest) day start\n",
    "- we can't use floor with a month start, since its frequency (month length) is variable (this is a Pandas limitation)\n",
    "- we can't use snap directly, since some days will then be rounded to the start of the month, others to the end of the month\n",
    "\n",
    "See http://pandas.pydata.org/pandas-docs/stable/reference/api/pandas.DatetimeIndex.floor.html#pandas.DatetimeIndex.floor and http://pandas.pydata.org/pandas-docs/stable/user_guide/timeseries.html#timeseries-offset-aliases for some details.\n",
    "\n",
    "Subtracting ten days (or just a few) guarantees two things:\n",
    "- for dates mid-month, we'll end up below mid-month, so snap rounds down to the start of the month\n",
    "- for dates at the start of the month, we'll end up around day 20, which snap() rounds up to the start of the next month\n",
    "\n",
    "This also makes this operation idempotent: once we reach the start of the month, the output will remain at the start of the month, no matter how often we rerun the procedure. (The procedure does break down if one moves before the introduction of the Gregorian calendar, which is unlikely in this context.)"
   ]
  },
  {
   "cell_type": "code",
   "execution_count": 13,
   "metadata": {},
   "outputs": [],
   "source": [
    "from datetime import timedelta\n",
    "import numpy as np\n",
    "df1.index = (df1.index - timedelta(10)).snap('MS').floor('D')"
   ]
  },
  {
   "cell_type": "markdown",
   "metadata": {},
   "source": [
    "For verification, we calculate the difference in days between the consecutive rows of the index. This should always be between 28 and 31 days inclusive."
   ]
  },
  {
   "cell_type": "code",
   "execution_count": 14,
   "metadata": {},
   "outputs": [
    {
     "data": {
      "text/plain": [
       "DatetimeIndex(['1850-01-01', '1850-02-01', '1850-03-01', '1850-04-01',\n",
       "               '1850-05-01', '1850-06-01', '1850-07-01', '1850-08-01',\n",
       "               '1850-09-01', '1850-10-01',\n",
       "               ...\n",
       "               '2018-05-01', '2018-06-01', '2018-07-01', '2018-08-01',\n",
       "               '2018-09-01', '2018-10-01', '2018-11-01', '2018-12-01',\n",
       "               '2019-01-01', '2019-02-01'],\n",
       "              dtype='datetime64[ns]', length=2030, freq=None)"
      ]
     },
     "execution_count": 14,
     "metadata": {},
     "output_type": "execute_result"
    }
   ],
   "source": [
    "dd = np.diff(df1.index)/1e9/86400   # nanoseconds to days\n",
    "dd = dd.astype(np.int)    # We need to convert `dd` to compare with 28 and 31 below, \n",
    "                          # since the type of dd is almost, but not quite, entirely unlike np.int.\n",
    "assert len(np.where((dd < 28) | (dd > 31))[0]) == 0   # Verify that all consecutive days are a month apart\n",
    "df1.index"
   ]
  },
  {
   "cell_type": "markdown",
   "metadata": {},
   "source": [
    "## Combine the three dataframes"
   ]
  },
  {
   "cell_type": "code",
   "execution_count": 15,
   "metadata": {},
   "outputs": [],
   "source": [
    "df = pd.concat([df1, df2, df3], axis=1)"
   ]
  },
  {
   "cell_type": "markdown",
   "metadata": {},
   "source": [
    "Here's what a section of the combined dataframe looks like:"
   ]
  },
  {
   "cell_type": "code",
   "execution_count": 16,
   "metadata": {},
   "outputs": [
    {
     "data": {
      "text/html": [
       "<div>\n",
       "<style scoped>\n",
       "    .dataframe tbody tr th:only-of-type {\n",
       "        vertical-align: middle;\n",
       "    }\n",
       "\n",
       "    .dataframe tbody tr th {\n",
       "        vertical-align: top;\n",
       "    }\n",
       "\n",
       "    .dataframe thead th {\n",
       "        text-align: right;\n",
       "    }\n",
       "</style>\n",
       "<table border=\"1\" class=\"dataframe\">\n",
       "  <thead>\n",
       "    <tr style=\"text-align: right;\">\n",
       "      <th></th>\n",
       "      <th>HadCrut4</th>\n",
       "      <th>NOAAGlobalTemp</th>\n",
       "      <th>GISS</th>\n",
       "    </tr>\n",
       "  </thead>\n",
       "  <tbody>\n",
       "    <tr>\n",
       "      <th>1888-01-01</th>\n",
       "      <td>-0.577359</td>\n",
       "      <td>-0.699455</td>\n",
       "      <td>-0.796492</td>\n",
       "    </tr>\n",
       "    <tr>\n",
       "      <th>1888-02-01</th>\n",
       "      <td>-0.656319</td>\n",
       "      <td>-0.718738</td>\n",
       "      <td>-0.945968</td>\n",
       "    </tr>\n",
       "    <tr>\n",
       "      <th>1888-03-01</th>\n",
       "      <td>-0.926334</td>\n",
       "      <td>-0.833049</td>\n",
       "      <td>-1.163196</td>\n",
       "    </tr>\n",
       "    <tr>\n",
       "      <th>1888-04-01</th>\n",
       "      <td>-0.532249</td>\n",
       "      <td>-0.606504</td>\n",
       "      <td>-0.405756</td>\n",
       "    </tr>\n",
       "    <tr>\n",
       "      <th>1888-05-01</th>\n",
       "      <td>-0.635143</td>\n",
       "      <td>-0.482058</td>\n",
       "      <td>-0.675715</td>\n",
       "    </tr>\n",
       "    <tr>\n",
       "      <th>1888-06-01</th>\n",
       "      <td>-0.533576</td>\n",
       "      <td>-0.407539</td>\n",
       "      <td>-0.302694</td>\n",
       "    </tr>\n",
       "    <tr>\n",
       "      <th>1888-07-01</th>\n",
       "      <td>-0.371007</td>\n",
       "      <td>-0.382457</td>\n",
       "      <td>-0.286995</td>\n",
       "    </tr>\n",
       "    <tr>\n",
       "      <th>1888-08-01</th>\n",
       "      <td>-0.265540</td>\n",
       "      <td>-0.441215</td>\n",
       "      <td>-0.265466</td>\n",
       "    </tr>\n",
       "    <tr>\n",
       "      <th>1888-09-01</th>\n",
       "      <td>-0.346651</td>\n",
       "      <td>-0.309926</td>\n",
       "      <td>-0.359078</td>\n",
       "    </tr>\n",
       "    <tr>\n",
       "      <th>1888-10-01</th>\n",
       "      <td>-0.207330</td>\n",
       "      <td>-0.245208</td>\n",
       "      <td>-0.375208</td>\n",
       "    </tr>\n",
       "    <tr>\n",
       "      <th>1888-11-01</th>\n",
       "      <td>-0.260533</td>\n",
       "      <td>-0.342320</td>\n",
       "      <td>-0.235970</td>\n",
       "    </tr>\n",
       "    <tr>\n",
       "      <th>1888-12-01</th>\n",
       "      <td>-0.427629</td>\n",
       "      <td>-0.405556</td>\n",
       "      <td>-0.717075</td>\n",
       "    </tr>\n",
       "    <tr>\n",
       "      <th>1889-01-01</th>\n",
       "      <td>-0.132401</td>\n",
       "      <td>-0.413594</td>\n",
       "      <td>-0.520600</td>\n",
       "    </tr>\n",
       "    <tr>\n",
       "      <th>1889-02-01</th>\n",
       "      <td>-0.113175</td>\n",
       "      <td>-0.259697</td>\n",
       "      <td>-0.004604</td>\n",
       "    </tr>\n",
       "    <tr>\n",
       "      <th>1889-03-01</th>\n",
       "      <td>-0.302074</td>\n",
       "      <td>-0.302085</td>\n",
       "      <td>-0.179923</td>\n",
       "    </tr>\n",
       "    <tr>\n",
       "      <th>1889-04-01</th>\n",
       "      <td>0.020093</td>\n",
       "      <td>-0.215608</td>\n",
       "      <td>0.173926</td>\n",
       "    </tr>\n",
       "    <tr>\n",
       "      <th>1889-05-01</th>\n",
       "      <td>-0.113875</td>\n",
       "      <td>-0.317632</td>\n",
       "      <td>0.269381</td>\n",
       "    </tr>\n",
       "    <tr>\n",
       "      <th>1889-06-01</th>\n",
       "      <td>-0.181055</td>\n",
       "      <td>-0.362582</td>\n",
       "      <td>-0.060408</td>\n",
       "    </tr>\n",
       "    <tr>\n",
       "      <th>1889-07-01</th>\n",
       "      <td>-0.221308</td>\n",
       "      <td>-0.407624</td>\n",
       "      <td>-0.341780</td>\n",
       "    </tr>\n",
       "    <tr>\n",
       "      <th>1889-08-01</th>\n",
       "      <td>-0.257291</td>\n",
       "      <td>-0.371874</td>\n",
       "      <td>-0.444901</td>\n",
       "    </tr>\n",
       "    <tr>\n",
       "      <th>1889-09-01</th>\n",
       "      <td>-0.448095</td>\n",
       "      <td>-0.444832</td>\n",
       "      <td>-0.325971</td>\n",
       "    </tr>\n",
       "    <tr>\n",
       "      <th>1889-10-01</th>\n",
       "      <td>-0.188554</td>\n",
       "      <td>-0.435475</td>\n",
       "      <td>-0.118025</td>\n",
       "    </tr>\n",
       "    <tr>\n",
       "      <th>1889-11-01</th>\n",
       "      <td>-0.319355</td>\n",
       "      <td>-0.537515</td>\n",
       "      <td>-0.570520</td>\n",
       "    </tr>\n",
       "    <tr>\n",
       "      <th>1889-12-01</th>\n",
       "      <td>-0.181677</td>\n",
       "      <td>-0.468260</td>\n",
       "      <td>-0.406172</td>\n",
       "    </tr>\n",
       "  </tbody>\n",
       "</table>\n",
       "</div>"
      ],
      "text/plain": [
       "            HadCrut4  NOAAGlobalTemp      GISS\n",
       "1888-01-01 -0.577359       -0.699455 -0.796492\n",
       "1888-02-01 -0.656319       -0.718738 -0.945968\n",
       "1888-03-01 -0.926334       -0.833049 -1.163196\n",
       "1888-04-01 -0.532249       -0.606504 -0.405756\n",
       "1888-05-01 -0.635143       -0.482058 -0.675715\n",
       "1888-06-01 -0.533576       -0.407539 -0.302694\n",
       "1888-07-01 -0.371007       -0.382457 -0.286995\n",
       "1888-08-01 -0.265540       -0.441215 -0.265466\n",
       "1888-09-01 -0.346651       -0.309926 -0.359078\n",
       "1888-10-01 -0.207330       -0.245208 -0.375208\n",
       "1888-11-01 -0.260533       -0.342320 -0.235970\n",
       "1888-12-01 -0.427629       -0.405556 -0.717075\n",
       "1889-01-01 -0.132401       -0.413594 -0.520600\n",
       "1889-02-01 -0.113175       -0.259697 -0.004604\n",
       "1889-03-01 -0.302074       -0.302085 -0.179923\n",
       "1889-04-01  0.020093       -0.215608  0.173926\n",
       "1889-05-01 -0.113875       -0.317632  0.269381\n",
       "1889-06-01 -0.181055       -0.362582 -0.060408\n",
       "1889-07-01 -0.221308       -0.407624 -0.341780\n",
       "1889-08-01 -0.257291       -0.371874 -0.444901\n",
       "1889-09-01 -0.448095       -0.444832 -0.325971\n",
       "1889-10-01 -0.188554       -0.435475 -0.118025\n",
       "1889-11-01 -0.319355       -0.537515 -0.570520\n",
       "1889-12-01 -0.181677       -0.468260 -0.406172"
      ]
     },
     "execution_count": 16,
     "metadata": {},
     "output_type": "execute_result"
    }
   ],
   "source": [
    "df.head(40*12).tail(24)"
   ]
  },
  {
   "cell_type": "code",
   "execution_count": 17,
   "metadata": {},
   "outputs": [
    {
     "data": {
      "image/png": "[encoded data removed]",
      "text/plain": [
       "<Figure size 432x288 with 1 Axes>"
      ]
     },
     "metadata": {
      "needs_background": "light"
     },
     "output_type": "display_data"
    }
   ],
   "source": [
    "df.plot();    # the semi-colon supresses any output. In this case, annoying \"<matplotlib.axes._subplots.AxesSubplot at 0x...>\" output"
   ]
  },
  {
   "cell_type": "code",
   "execution_count": 18,
   "metadata": {},
   "outputs": [
    {
     "data": {
      "image/png": "[encoded data removed]",
      "text/plain": [
       "<Figure size 432x288 with 1 Axes>"
      ]
     },
     "metadata": {
      "needs_background": "light"
     },
     "output_type": "display_data"
    }
   ],
   "source": [
    "df.groupby(df.index.year).mean().plot();"
   ]
  },
  {
   "cell_type": "markdown",
   "metadata": {},
   "source": [
    "Below, we calculate for each dataset the average between the years 1961 and 1990, inclusive. We do it for each dataset separately, to remove offset biases between the datasets. The averages are then subtracted from each dataset, and we plot again."
   ]
  },
  {
   "cell_type": "code",
   "execution_count": 19,
   "metadata": {},
   "outputs": [
    {
     "data": {
      "text/plain": [
       "True"
      ]
     },
     "execution_count": 19,
     "metadata": {},
     "output_type": "execute_result"
    }
   ],
   "source": [
    "from datetime import datetime\n",
    "\n",
    "start = datetime(1961, 1, 1)\n",
    "stop = datetime(1990, 12, 31)\n",
    "mask = (df.index >= start) & (df.index <= stop)\n",
    "# Verify it's 30 years total that are masked\n",
    "mask.sum() == 360"
   ]
  },
  {
   "cell_type": "markdown",
   "metadata": {},
   "source": [
    "We index the dataframe by the mask (by default, the indexing will be done along the rows, which is what we want), and calculate the mean. The mean is calculated for each individual column. The result is a so-called Pandas Series, with just three values."
   ]
  },
  {
   "cell_type": "code",
   "execution_count": 20,
   "metadata": {},
   "outputs": [
    {
     "data": {
      "text/plain": [
       "HadCrut4          0.017835\n",
       "NOAAGlobalTemp   -0.139239\n",
       "GISS              0.098361\n",
       "dtype: float64"
      ]
     },
     "execution_count": 20,
     "metadata": {},
     "output_type": "execute_result"
    }
   ],
   "source": [
    "df[mask].mean()"
   ]
  },
  {
   "cell_type": "markdown",
   "metadata": {},
   "source": [
    "We can easily subtract the mean from the full dataframe: Pandas will match the column names, and perform the operation for each individual row.\n",
    "The result is assigned to a new dataframe (as not to overwrite the old one), and then plotted as before: per yearly average."
   ]
  },
  {
   "cell_type": "code",
   "execution_count": 21,
   "metadata": {},
   "outputs": [
    {
     "data": {
      "image/png": "[encoded data removed]",
      "text/plain": [
       "<Figure size 432x288 with 1 Axes>"
      ]
     },
     "metadata": {
      "needs_background": "light"
     },
     "output_type": "display_data"
    }
   ],
   "source": [
    "dfd = df - df[mask].mean()\n",
    "dfd.groupby(df.index.year).mean().plot();"
   ]
  },
  {
   "cell_type": "code",
   "execution_count": null,
   "metadata": {},
   "outputs": [],
   "source": []
  }
 ],
 "metadata": {
  "kernelspec": {
   "display_name": "Python 3",
   "language": "python",
   "name": "python3"
  },
  "language_info": {
   "codemirror_mode": {
    "name": "ipython",
    "version": 3
   },
   "file_extension": ".py",
   "mimetype": "text/x-python",
   "name": "python",
   "nbconvert_exporter": "python",
   "pygments_lexer": "ipython3",
   "version": "3.6.7"
  }
 },
 "nbformat": 4,
 "nbformat_minor": 2
}
